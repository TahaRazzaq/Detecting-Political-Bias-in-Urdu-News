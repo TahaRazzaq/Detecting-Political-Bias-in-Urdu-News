{
  "nbformat": 4,
  "nbformat_minor": 0,
  "metadata": {
    "colab": {
      "name": "Web Scraping Urdu News",
      "provenance": [],
      "collapsed_sections": [],
      "include_colab_link": true
    },
    "kernelspec": {
      "name": "python3",
      "display_name": "Python 3"
    }
  },
  "cells": [
    {
      "cell_type": "markdown",
      "metadata": {
        "id": "view-in-github",
        "colab_type": "text"
      },
      "source": [
        "<a href=\"https://colab.research.google.com/github/TahaRazzaq/Detecting-Political-Bias-in-Urdu-News/blob/main/Political_Bias_in_Urdu_News.ipynb\" target=\"_parent\"><img src=\"https://colab.research.google.com/assets/colab-badge.svg\" alt=\"Open In Colab\"/></a>"
      ]
    },
    {
      "cell_type": "code",
      "metadata": {
        "id": "-35VbW849pOb",
        "colab": {
          "base_uri": "https://localhost:8080/"
        },
        "outputId": "da46d57f-b1aa-4a8b-b4f8-5eb0032e3ea9"
      },
      "source": [
        "from nltk.tokenize import sent_tokenize, word_tokenize \n",
        "import glob\n",
        "import pandas as pd\n",
        "import numpy as np\n",
        "import nltk\n",
        "nltk.download('punkt')"
      ],
      "execution_count": 1,
      "outputs": [
        {
          "output_type": "stream",
          "text": [
            "[nltk_data] Downloading package punkt to /root/nltk_data...\n",
            "[nltk_data]   Unzipping tokenizers/punkt.zip.\n"
          ],
          "name": "stdout"
        },
        {
          "output_type": "execute_result",
          "data": {
            "text/plain": [
              "True"
            ]
          },
          "metadata": {
            "tags": []
          },
          "execution_count": 1
        }
      ]
    },
    {
      "cell_type": "code",
      "metadata": {
        "colab": {
          "base_uri": "https://localhost:8080/"
        },
        "id": "N6Az8vzipAi1",
        "outputId": "ec6a868c-b166-42a4-dfc0-39bc1419a755"
      },
      "source": [
        "from google.colab import drive\n",
        "drive.mount('/content/drive')"
      ],
      "execution_count": 2,
      "outputs": [
        {
          "output_type": "stream",
          "text": [
            "Mounted at /content/drive\n"
          ],
          "name": "stdout"
        }
      ]
    },
    {
      "cell_type": "markdown",
      "metadata": {
        "id": "sZ8sdSx_Fr_s"
      },
      "source": [
        "\n",
        "## Trying NewsPaper"
      ]
    },
    {
      "cell_type": "code",
      "metadata": {
        "id": "qC0lDKABD_H3",
        "colab": {
          "base_uri": "https://localhost:8080/"
        },
        "outputId": "64e1f613-8cb0-4efa-80e3-c890d057837f"
      },
      "source": [
        "!pip install newspaper3k #important"
      ],
      "execution_count": 3,
      "outputs": [
        {
          "output_type": "stream",
          "text": [
            "Collecting newspaper3k\n",
            "\u001b[?25l  Downloading https://files.pythonhosted.org/packages/d7/b9/51afecb35bb61b188a4b44868001de348a0e8134b4dfa00ffc191567c4b9/newspaper3k-0.2.8-py3-none-any.whl (211kB)\n",
            "\u001b[K     |████████████████████████████████| 215kB 2.7MB/s \n",
            "\u001b[?25hCollecting cssselect>=0.9.2\n",
            "  Downloading https://files.pythonhosted.org/packages/3b/d4/3b5c17f00cce85b9a1e6f91096e1cc8e8ede2e1be8e96b87ce1ed09e92c5/cssselect-1.1.0-py2.py3-none-any.whl\n",
            "Requirement already satisfied: nltk>=3.2.1 in /usr/local/lib/python3.7/dist-packages (from newspaper3k) (3.2.5)\n",
            "Requirement already satisfied: requests>=2.10.0 in /usr/local/lib/python3.7/dist-packages (from newspaper3k) (2.23.0)\n",
            "Requirement already satisfied: Pillow>=3.3.0 in /usr/local/lib/python3.7/dist-packages (from newspaper3k) (7.1.2)\n",
            "Collecting tldextract>=2.0.1\n",
            "\u001b[?25l  Downloading https://files.pythonhosted.org/packages/7e/62/b6acd3129c5615b9860e670df07fd55b76175b63e6b7f68282c7cad38e9e/tldextract-3.1.0-py2.py3-none-any.whl (87kB)\n",
            "\u001b[K     |████████████████████████████████| 92kB 7.8MB/s \n",
            "\u001b[?25hRequirement already satisfied: python-dateutil>=2.5.3 in /usr/local/lib/python3.7/dist-packages (from newspaper3k) (2.8.1)\n",
            "Requirement already satisfied: lxml>=3.6.0 in /usr/local/lib/python3.7/dist-packages (from newspaper3k) (4.2.6)\n",
            "Collecting feedparser>=5.2.1\n",
            "\u001b[?25l  Downloading https://files.pythonhosted.org/packages/1c/21/faf1bac028662cc8adb2b5ef7a6f3999a765baa2835331df365289b0ca56/feedparser-6.0.2-py3-none-any.whl (80kB)\n",
            "\u001b[K     |████████████████████████████████| 81kB 7.2MB/s \n",
            "\u001b[?25hRequirement already satisfied: PyYAML>=3.11 in /usr/local/lib/python3.7/dist-packages (from newspaper3k) (3.13)\n",
            "Requirement already satisfied: beautifulsoup4>=4.4.1 in /usr/local/lib/python3.7/dist-packages (from newspaper3k) (4.6.3)\n",
            "Collecting feedfinder2>=0.0.4\n",
            "  Downloading https://files.pythonhosted.org/packages/35/82/1251fefec3bb4b03fd966c7e7f7a41c9fc2bb00d823a34c13f847fd61406/feedfinder2-0.0.4.tar.gz\n",
            "Collecting jieba3k>=0.35.1\n",
            "\u001b[?25l  Downloading https://files.pythonhosted.org/packages/a9/cb/2c8332bcdc14d33b0bedd18ae0a4981a069c3513e445120da3c3f23a8aaa/jieba3k-0.35.1.zip (7.4MB)\n",
            "\u001b[K     |████████████████████████████████| 7.4MB 15.3MB/s \n",
            "\u001b[?25hCollecting tinysegmenter==0.3\n",
            "  Downloading https://files.pythonhosted.org/packages/17/82/86982e4b6d16e4febc79c2a1d68ee3b707e8a020c5d2bc4af8052d0f136a/tinysegmenter-0.3.tar.gz\n",
            "Requirement already satisfied: six in /usr/local/lib/python3.7/dist-packages (from nltk>=3.2.1->newspaper3k) (1.15.0)\n",
            "Requirement already satisfied: urllib3!=1.25.0,!=1.25.1,<1.26,>=1.21.1 in /usr/local/lib/python3.7/dist-packages (from requests>=2.10.0->newspaper3k) (1.24.3)\n",
            "Requirement already satisfied: idna<3,>=2.5 in /usr/local/lib/python3.7/dist-packages (from requests>=2.10.0->newspaper3k) (2.10)\n",
            "Requirement already satisfied: chardet<4,>=3.0.2 in /usr/local/lib/python3.7/dist-packages (from requests>=2.10.0->newspaper3k) (3.0.4)\n",
            "Requirement already satisfied: certifi>=2017.4.17 in /usr/local/lib/python3.7/dist-packages (from requests>=2.10.0->newspaper3k) (2020.12.5)\n",
            "Requirement already satisfied: filelock>=3.0.8 in /usr/local/lib/python3.7/dist-packages (from tldextract>=2.0.1->newspaper3k) (3.0.12)\n",
            "Collecting requests-file>=1.4\n",
            "  Downloading https://files.pythonhosted.org/packages/77/86/cdb5e8eaed90796aa83a6d9f75cfbd37af553c47a291cd47bc410ef9bdb2/requests_file-1.5.1-py2.py3-none-any.whl\n",
            "Collecting sgmllib3k\n",
            "  Downloading https://files.pythonhosted.org/packages/9e/bd/3704a8c3e0942d711c1299ebf7b9091930adae6675d7c8f476a7ce48653c/sgmllib3k-1.0.0.tar.gz\n",
            "Building wheels for collected packages: feedfinder2, jieba3k, tinysegmenter, sgmllib3k\n",
            "  Building wheel for feedfinder2 (setup.py) ... \u001b[?25l\u001b[?25hdone\n",
            "  Created wheel for feedfinder2: filename=feedfinder2-0.0.4-cp37-none-any.whl size=3358 sha256=f5c275b76f8b0e88c5b88233e82c33444b2413152a0accede1bf1e3233435283\n",
            "  Stored in directory: /root/.cache/pip/wheels/de/03/ca/778e3a7a627e3d98836cc890e7cb40c7575424cfd3340f40ed\n",
            "  Building wheel for jieba3k (setup.py) ... \u001b[?25l\u001b[?25hdone\n",
            "  Created wheel for jieba3k: filename=jieba3k-0.35.1-cp37-none-any.whl size=7398406 sha256=56fae87943c60ebe085a5a41653f47f44ee2b7e8a01f645328db271ed568de90\n",
            "  Stored in directory: /root/.cache/pip/wheels/83/15/9c/a3f1f67e7f7181170ad37d32e503c35da20627c013f438ed34\n",
            "  Building wheel for tinysegmenter (setup.py) ... \u001b[?25l\u001b[?25hdone\n",
            "  Created wheel for tinysegmenter: filename=tinysegmenter-0.3-cp37-none-any.whl size=13538 sha256=9eca9067647fd9932ef0525f276a269cd7f2bed6127efa71db4fd8c8ec28c6e5\n",
            "  Stored in directory: /root/.cache/pip/wheels/81/2b/43/a02ede72324dd40cdd7ca53aad718c7710628e91b8b0dc0f02\n",
            "  Building wheel for sgmllib3k (setup.py) ... \u001b[?25l\u001b[?25hdone\n",
            "  Created wheel for sgmllib3k: filename=sgmllib3k-1.0.0-cp37-none-any.whl size=6067 sha256=f524da3cd6c3dc67a1d140231dc87a5225b5110c93742fc8e11916cebe7f7a28\n",
            "  Stored in directory: /root/.cache/pip/wheels/f1/80/5a/444ba08a550cdd241bd9baf8bae44be750efe370adb944506a\n",
            "Successfully built feedfinder2 jieba3k tinysegmenter sgmllib3k\n",
            "Installing collected packages: cssselect, requests-file, tldextract, sgmllib3k, feedparser, feedfinder2, jieba3k, tinysegmenter, newspaper3k\n",
            "Successfully installed cssselect-1.1.0 feedfinder2-0.0.4 feedparser-6.0.2 jieba3k-0.35.1 newspaper3k-0.2.8 requests-file-1.5.1 sgmllib3k-1.0.0 tinysegmenter-0.3 tldextract-3.1.0\n"
          ],
          "name": "stdout"
        }
      ]
    },
    {
      "cell_type": "code",
      "metadata": {
        "id": "odN65VDlGrbP"
      },
      "source": [
        "import newspaper\n",
        "from newspaper import Article \n",
        "import requests\n",
        "from bs4 import BeautifulSoup"
      ],
      "execution_count": 4,
      "outputs": []
    },
    {
      "cell_type": "code",
      "metadata": {
        "id": "KeE8ret_UQEO"
      },
      "source": [
        "\n",
        "def read_url(url):\n",
        "  toi_article = Article(url, language=\"ar\") # ar for Arabic but can be used for Urdu \n",
        "\n",
        "  return toi_article\n",
        "  #To download the article \n",
        "\n",
        "  # toi_article.download() \n",
        "\n"
      ],
      "execution_count": 6,
      "outputs": []
    },
    {
      "cell_type": "code",
      "metadata": {
        "id": "YxVMJrzMuw3z"
      },
      "source": [
        "urls = [\"https://www.express.pk\", \"https://jang.com.pk/category/mera-shahar/lahore\", 'https://www.nawaiwaqt.com.pk/lahore', 'https://dailypakistan.com.pk/', 'https://mashriqtv.pk/']\n",
        "links = []\n",
        "for url in urls:\n",
        "  response = requests.get(url)\n",
        "  data = response.text\n",
        "  soup = BeautifulSoup(data, 'lxml')\n",
        "  link = []\n",
        "\n",
        "\n",
        "  for link in soup.find_all('a'):\n",
        "    link_url = link.get('href')\n",
        "\n",
        "    if link_url is not None and link_url.startswith('http'):\n",
        "      links.append(link_url + '\\n')\n",
        "  "
      ],
      "execution_count": 7,
      "outputs": []
    },
    {
      "cell_type": "code",
      "metadata": {
        "id": "x_GlTiSG1QSQ"
      },
      "source": [
        ""
      ],
      "execution_count": null,
      "outputs": []
    },
    {
      "cell_type": "code",
      "metadata": {
        "id": "jdgQEFOKzyM4"
      },
      "source": [
        "domains = [x.split(\"/\")[2] for x in urls]\n",
        "# domains"
      ],
      "execution_count": 12,
      "outputs": []
    },
    {
      "cell_type": "code",
      "metadata": {
        "colab": {
          "base_uri": "https://localhost:8080/"
        },
        "id": "UaJrRZZcxFHO",
        "outputId": "5cd20c93-0fcd-42d9-e58b-b2451508ee16"
      },
      "source": [
        "useful_links = []\n",
        "\n",
        "for link in links:\n",
        "  if len(link) >= 39:\n",
        "    split = link.split(\"/\")\n",
        "    if split[2] in domains:\n",
        "      useful_links.append(link)\n",
        "\n",
        "useful_links[:5]"
      ],
      "execution_count": 13,
      "outputs": [
        {
          "output_type": "execute_result",
          "data": {
            "text/plain": [
              "['https://www.express.pk/story/2175840/1\\n',\n",
              " 'https://www.express.pk/story/2175777/1\\n',\n",
              " 'https://www.express.pk/story/2175491/1\\n',\n",
              " 'https://www.express.pk/story/2175613/9812\\n',\n",
              " 'https://www.express.pk/story/2175423/508\\n']"
            ]
          },
          "metadata": {
            "tags": []
          },
          "execution_count": 13
        }
      ]
    },
    {
      "cell_type": "code",
      "metadata": {
        "id": "aUqu0xdO_5MH"
      },
      "source": [
        "useful_links = [i[:-1] for i in useful_links]"
      ],
      "execution_count": 15,
      "outputs": []
    },
    {
      "cell_type": "code",
      "metadata": {
        "id": "qBDoRtSZ13M1"
      },
      "source": [
        "articles = []\n",
        "art_text = []\n",
        "actual_links = []\n",
        "token_list = []\n",
        "f = open(\"/content/drive/MyDrive/DRP_Dr.Agha/archive/stopwords-ur.txt\", \"r\")\n",
        "stop_words = [x for x in f]\n",
        "# stop_words = f.readline()\n",
        "# stop_words = f.readline()\n",
        "stop_words = [x[:-1] for x in stop_words]\n",
        "for link in useful_links:\n",
        "    art = read_url(link)\n",
        "  # try:\n",
        "    art.download()\n",
        "    try:\n",
        "      art.parse()\n",
        "      art.nlp()\n",
        "      temp_text = art.text\n",
        "      articles.append(art)\n",
        "      art_text.append(temp_text)\n",
        "      actual_links.append(link)\n",
        "    except:\n",
        "      pass\n",
        "   \n"
      ],
      "execution_count": 17,
      "outputs": []
    },
    {
      "cell_type": "code",
      "metadata": {
        "id": "fAYPS8dq7bRZ"
      },
      "source": [
        "df = pd.DataFrame()\n",
        "df['Link'] = actual_links\n",
        "df['Text'] = art_text\n",
        "df['Articles'] = articles"
      ],
      "execution_count": 18,
      "outputs": []
    },
    {
      "cell_type": "code",
      "metadata": {
        "colab": {
          "base_uri": "https://localhost:8080/",
          "height": 204
        },
        "id": "M41Jw-xy8AdN",
        "outputId": "6bbbb0f4-a989-4585-8a00-b628b1cdc5f5"
      },
      "source": [
        "df.head()"
      ],
      "execution_count": 19,
      "outputs": [
        {
          "output_type": "execute_result",
          "data": {
            "text/html": [
              "<div>\n",
              "<style scoped>\n",
              "    .dataframe tbody tr th:only-of-type {\n",
              "        vertical-align: middle;\n",
              "    }\n",
              "\n",
              "    .dataframe tbody tr th {\n",
              "        vertical-align: top;\n",
              "    }\n",
              "\n",
              "    .dataframe thead th {\n",
              "        text-align: right;\n",
              "    }\n",
              "</style>\n",
              "<table border=\"1\" class=\"dataframe\">\n",
              "  <thead>\n",
              "    <tr style=\"text-align: right;\">\n",
              "      <th></th>\n",
              "      <th>Link</th>\n",
              "      <th>Text</th>\n",
              "      <th>Articles</th>\n",
              "    </tr>\n",
              "  </thead>\n",
              "  <tbody>\n",
              "    <tr>\n",
              "      <th>0</th>\n",
              "      <td>https://www.express.pk/story/2175722/1</td>\n",
              "      <td>کراچی: پیپلز پارٹی کے چیئرمین بلاول بھٹو زردار...</td>\n",
              "      <td>&lt;newspaper.article.Article object at 0x7fdaec5...</td>\n",
              "    </tr>\n",
              "    <tr>\n",
              "      <th>1</th>\n",
              "      <td>https://www.express.pk/videos/2175501/khair-e-...</td>\n",
              "      <td></td>\n",
              "      <td>&lt;newspaper.article.Article object at 0x7fdaec4...</td>\n",
              "    </tr>\n",
              "    <tr>\n",
              "      <th>2</th>\n",
              "      <td>https://www.express.pk/videos/2175500/khabarda...</td>\n",
              "      <td></td>\n",
              "      <td>&lt;newspaper.article.Article object at 0x7fdaecf...</td>\n",
              "    </tr>\n",
              "    <tr>\n",
              "      <th>3</th>\n",
              "      <td>https://www.express.pk/videos/2175500/khabarda...</td>\n",
              "      <td></td>\n",
              "      <td>&lt;newspaper.article.Article object at 0x7fdaed6...</td>\n",
              "    </tr>\n",
              "    <tr>\n",
              "      <th>4</th>\n",
              "      <td>https://www.express.pk/videos/2175390/kal-tak-...</td>\n",
              "      <td></td>\n",
              "      <td>&lt;newspaper.article.Article object at 0x7fdaec4...</td>\n",
              "    </tr>\n",
              "  </tbody>\n",
              "</table>\n",
              "</div>"
            ],
            "text/plain": [
              "                                                Link  ...                                           Articles\n",
              "0             https://www.express.pk/story/2175722/1  ...  <newspaper.article.Article object at 0x7fdaec5...\n",
              "1  https://www.express.pk/videos/2175501/khair-e-...  ...  <newspaper.article.Article object at 0x7fdaec4...\n",
              "2  https://www.express.pk/videos/2175500/khabarda...  ...  <newspaper.article.Article object at 0x7fdaecf...\n",
              "3  https://www.express.pk/videos/2175500/khabarda...  ...  <newspaper.article.Article object at 0x7fdaed6...\n",
              "4  https://www.express.pk/videos/2175390/kal-tak-...  ...  <newspaper.article.Article object at 0x7fdaec4...\n",
              "\n",
              "[5 rows x 3 columns]"
            ]
          },
          "metadata": {
            "tags": []
          },
          "execution_count": 19
        }
      ]
    },
    {
      "cell_type": "code",
      "metadata": {
        "id": "fyJ62M5ctSDG"
      },
      "source": [
        "\n",
        "nan_value = float(\"NaN\")\n",
        "df.replace(\"\", nan_value, inplace=True)\n",
        "\n",
        "df.dropna(subset = [\"Text\"], inplace=True)\n"
      ],
      "execution_count": 20,
      "outputs": []
    },
    {
      "cell_type": "code",
      "metadata": {
        "id": "_uSxp9386yZ0",
        "colab": {
          "base_uri": "https://localhost:8080/",
          "height": 204
        },
        "outputId": "abc98c17-e887-41b4-b3ba-7280751b439a"
      },
      "source": [
        "df = df.drop_duplicates(subset='Text', keep=\"first\")\n",
        "df.head()"
      ],
      "execution_count": 21,
      "outputs": [
        {
          "output_type": "execute_result",
          "data": {
            "text/html": [
              "<div>\n",
              "<style scoped>\n",
              "    .dataframe tbody tr th:only-of-type {\n",
              "        vertical-align: middle;\n",
              "    }\n",
              "\n",
              "    .dataframe tbody tr th {\n",
              "        vertical-align: top;\n",
              "    }\n",
              "\n",
              "    .dataframe thead th {\n",
              "        text-align: right;\n",
              "    }\n",
              "</style>\n",
              "<table border=\"1\" class=\"dataframe\">\n",
              "  <thead>\n",
              "    <tr style=\"text-align: right;\">\n",
              "      <th></th>\n",
              "      <th>Link</th>\n",
              "      <th>Text</th>\n",
              "      <th>Articles</th>\n",
              "    </tr>\n",
              "  </thead>\n",
              "  <tbody>\n",
              "    <tr>\n",
              "      <th>0</th>\n",
              "      <td>https://www.express.pk/story/2175722/1</td>\n",
              "      <td>کراچی: پیپلز پارٹی کے چیئرمین بلاول بھٹو زردار...</td>\n",
              "      <td>&lt;newspaper.article.Article object at 0x7fdaec5...</td>\n",
              "    </tr>\n",
              "    <tr>\n",
              "      <th>18</th>\n",
              "      <td>https://www.express.pk/story/2175642/1</td>\n",
              "      <td>اسلام آباد: وفاقی وزیر برائے اطلاعات فواد چوہد...</td>\n",
              "      <td>&lt;newspaper.article.Article object at 0x7fdaec4...</td>\n",
              "    </tr>\n",
              "    <tr>\n",
              "      <th>23</th>\n",
              "      <td>https://www.express.pk/story/2175589/1</td>\n",
              "      <td>اسلام آباد: پاکستان مسلم لیگ (ن) کے رہنما احسن...</td>\n",
              "      <td>&lt;newspaper.article.Article object at 0x7fdaec4...</td>\n",
              "    </tr>\n",
              "    <tr>\n",
              "      <th>25</th>\n",
              "      <td>https://www.express.pk/story/2175721/1</td>\n",
              "      <td>تحریری درخواست اور ثبوت موصول ہونے کے بعد مقدم...</td>\n",
              "      <td>&lt;newspaper.article.Article object at 0x7fdaec4...</td>\n",
              "    </tr>\n",
              "    <tr>\n",
              "      <th>27</th>\n",
              "      <td>https://www.express.pk/story/2175570/1</td>\n",
              "      <td>کراچی: سندھ ہائیکورٹ نے دودھ کی قیمتوں میں ہوش...</td>\n",
              "      <td>&lt;newspaper.article.Article object at 0x7fdaec4...</td>\n",
              "    </tr>\n",
              "  </tbody>\n",
              "</table>\n",
              "</div>"
            ],
            "text/plain": [
              "                                      Link  ...                                           Articles\n",
              "0   https://www.express.pk/story/2175722/1  ...  <newspaper.article.Article object at 0x7fdaec5...\n",
              "18  https://www.express.pk/story/2175642/1  ...  <newspaper.article.Article object at 0x7fdaec4...\n",
              "23  https://www.express.pk/story/2175589/1  ...  <newspaper.article.Article object at 0x7fdaec4...\n",
              "25  https://www.express.pk/story/2175721/1  ...  <newspaper.article.Article object at 0x7fdaec4...\n",
              "27  https://www.express.pk/story/2175570/1  ...  <newspaper.article.Article object at 0x7fdaec4...\n",
              "\n",
              "[5 rows x 3 columns]"
            ]
          },
          "metadata": {
            "tags": []
          },
          "execution_count": 21
        }
      ]
    },
    {
      "cell_type": "code",
      "metadata": {
        "colab": {
          "base_uri": "https://localhost:8080/"
        },
        "id": "-Ix5ZGOdA6fl",
        "outputId": "c949b099-9958-4929-e922-58bc09a56c19"
      },
      "source": [
        "len(df.index)"
      ],
      "execution_count": 22,
      "outputs": [
        {
          "output_type": "execute_result",
          "data": {
            "text/plain": [
              "153"
            ]
          },
          "metadata": {
            "tags": []
          },
          "execution_count": 22
        }
      ]
    },
    {
      "cell_type": "markdown",
      "metadata": {
        "id": "8ut5sPnhnTXH"
      },
      "source": [
        "##### **Tokenize**"
      ]
    },
    {
      "cell_type": "code",
      "metadata": {
        "id": "Wz4a8a40VRmL"
      },
      "source": [
        "def removing_punct(text):\n",
        "  word_tok = word_tokenize(text)\n",
        "  punctuations = '''۔،!()-[]{};:'\"\\,<>./?@#$%^&*_~'''\n",
        "  tokens = []\n",
        "  for token in word_tok:\n",
        "    if (token in punctuations):\n",
        "      continue\n",
        "    tokens.append(token)\n",
        "  return tokens\n",
        "\n",
        "\n"
      ],
      "execution_count": 23,
      "outputs": []
    },
    {
      "cell_type": "markdown",
      "metadata": {
        "id": "PnUUI2y0naJr"
      },
      "source": [
        "##### **Removing stop words**"
      ]
    },
    {
      "cell_type": "code",
      "metadata": {
        "colab": {
          "base_uri": "https://localhost:8080/"
        },
        "id": "ccjZSoOpnStT",
        "outputId": "6d2ef929-a9b9-4db0-bc8b-631a7ea25c9c"
      },
      "source": [
        "f = open(\"/content/drive/MyDrive/DRP_Dr.Agha/archive/stopwords-ur.txt\", \"r\")\n",
        "stop_words = [x for x in f]\n",
        "stop_words = [x[:-1] for x in stop_words]\n",
        "word = 'کہتے\\n'\n",
        "word[:-1] in stop_words"
      ],
      "execution_count": null,
      "outputs": [
        {
          "output_type": "execute_result",
          "data": {
            "text/plain": [
              "True"
            ]
          },
          "metadata": {
            "tags": []
          },
          "execution_count": 20
        }
      ]
    },
    {
      "cell_type": "code",
      "metadata": {
        "id": "CVrxX0UNqHOl"
      },
      "source": [
        "def removing_stopwords(split_tokens):\n",
        "  f = open(\"/content/drive/MyDrive/DRP_Dr.Agha/archive/stopwords-ur.txt\", \"r\")\n",
        "  stop_words = [x for x in f]\n",
        "  stop_words = [x[:-1] for x in stop_words]\n",
        "  final_tokens = []\n",
        "  for token in split_tokens:\n",
        "    if (token in stop_words):\n",
        "      continue\n",
        "    final_tokens.append(token)\n",
        "  return final_tokens"
      ],
      "execution_count": 24,
      "outputs": []
    },
    {
      "cell_type": "code",
      "metadata": {
        "id": "_AlvK0mXP78o"
      },
      "source": [
        "split_tokens = [removing_punct(df['Text'][i]) for i in list(df['Text'].index)]\n",
        "final_tokens = [removing_stopwords(i) for i in split_tokens]"
      ],
      "execution_count": 25,
      "outputs": []
    },
    {
      "cell_type": "code",
      "metadata": {
        "id": "0ByEeqGsP7rP",
        "colab": {
          "base_uri": "https://localhost:8080/",
          "height": 204
        },
        "outputId": "136e3be0-74a9-4a2c-b9aa-2e5826349bf4"
      },
      "source": [
        "df['Tokens'] = final_tokens\n",
        "df.head()"
      ],
      "execution_count": 26,
      "outputs": [
        {
          "output_type": "execute_result",
          "data": {
            "text/html": [
              "<div>\n",
              "<style scoped>\n",
              "    .dataframe tbody tr th:only-of-type {\n",
              "        vertical-align: middle;\n",
              "    }\n",
              "\n",
              "    .dataframe tbody tr th {\n",
              "        vertical-align: top;\n",
              "    }\n",
              "\n",
              "    .dataframe thead th {\n",
              "        text-align: right;\n",
              "    }\n",
              "</style>\n",
              "<table border=\"1\" class=\"dataframe\">\n",
              "  <thead>\n",
              "    <tr style=\"text-align: right;\">\n",
              "      <th></th>\n",
              "      <th>Link</th>\n",
              "      <th>Text</th>\n",
              "      <th>Articles</th>\n",
              "      <th>Tokens</th>\n",
              "    </tr>\n",
              "  </thead>\n",
              "  <tbody>\n",
              "    <tr>\n",
              "      <th>0</th>\n",
              "      <td>https://www.express.pk/story/2175722/1</td>\n",
              "      <td>کراچی: پیپلز پارٹی کے چیئرمین بلاول بھٹو زردار...</td>\n",
              "      <td>&lt;newspaper.article.Article object at 0x7fdaec5...</td>\n",
              "      <td>[کراچی, پیپلز, پارٹی, چیئرمین, بلاول, بھٹو, زر...</td>\n",
              "    </tr>\n",
              "    <tr>\n",
              "      <th>18</th>\n",
              "      <td>https://www.express.pk/story/2175642/1</td>\n",
              "      <td>اسلام آباد: وفاقی وزیر برائے اطلاعات فواد چوہد...</td>\n",
              "      <td>&lt;newspaper.article.Article object at 0x7fdaec4...</td>\n",
              "      <td>[اسلام, آباد, وفاقی, وزیر, برائے, اطلاعات, فوا...</td>\n",
              "    </tr>\n",
              "    <tr>\n",
              "      <th>23</th>\n",
              "      <td>https://www.express.pk/story/2175589/1</td>\n",
              "      <td>اسلام آباد: پاکستان مسلم لیگ (ن) کے رہنما احسن...</td>\n",
              "      <td>&lt;newspaper.article.Article object at 0x7fdaec4...</td>\n",
              "      <td>[اسلام, آباد, پاکستان, مسلم, لیگ, ن, رہنما, اح...</td>\n",
              "    </tr>\n",
              "    <tr>\n",
              "      <th>25</th>\n",
              "      <td>https://www.express.pk/story/2175721/1</td>\n",
              "      <td>تحریری درخواست اور ثبوت موصول ہونے کے بعد مقدم...</td>\n",
              "      <td>&lt;newspaper.article.Article object at 0x7fdaec4...</td>\n",
              "      <td>[تحریری, درخواست, ثبوت, موصول, ہونے, بعد, مقدم...</td>\n",
              "    </tr>\n",
              "    <tr>\n",
              "      <th>27</th>\n",
              "      <td>https://www.express.pk/story/2175570/1</td>\n",
              "      <td>کراچی: سندھ ہائیکورٹ نے دودھ کی قیمتوں میں ہوش...</td>\n",
              "      <td>&lt;newspaper.article.Article object at 0x7fdaec4...</td>\n",
              "      <td>[کراچی, سندھ, ہائیکورٹ, نے, دودھ, قیمتوں, میں,...</td>\n",
              "    </tr>\n",
              "  </tbody>\n",
              "</table>\n",
              "</div>"
            ],
            "text/plain": [
              "                                      Link  ...                                             Tokens\n",
              "0   https://www.express.pk/story/2175722/1  ...  [کراچی, پیپلز, پارٹی, چیئرمین, بلاول, بھٹو, زر...\n",
              "18  https://www.express.pk/story/2175642/1  ...  [اسلام, آباد, وفاقی, وزیر, برائے, اطلاعات, فوا...\n",
              "23  https://www.express.pk/story/2175589/1  ...  [اسلام, آباد, پاکستان, مسلم, لیگ, ن, رہنما, اح...\n",
              "25  https://www.express.pk/story/2175721/1  ...  [تحریری, درخواست, ثبوت, موصول, ہونے, بعد, مقدم...\n",
              "27  https://www.express.pk/story/2175570/1  ...  [کراچی, سندھ, ہائیکورٹ, نے, دودھ, قیمتوں, میں,...\n",
              "\n",
              "[5 rows x 4 columns]"
            ]
          },
          "metadata": {
            "tags": []
          },
          "execution_count": 26
        }
      ]
    },
    {
      "cell_type": "code",
      "metadata": {
        "id": "HwmIrnEqUoFU"
      },
      "source": [
        "df.to_csv('/content/drive/MyDrive/DRP_Dr.Agha/Newpaper_Articles_1.csv')"
      ],
      "execution_count": null,
      "outputs": []
    },
    {
      "cell_type": "code",
      "metadata": {
        "colab": {
          "base_uri": "https://localhost:8080/",
          "height": 204
        },
        "id": "qyB0yweQ8VeK",
        "outputId": "baaf4d24-812c-4f57-c440-a6515744e8fc"
      },
      "source": [
        "\n",
        "df = pd.read_csv('/content/drive/MyDrive/DRP_Dr.Agha/Newpaper_Articles', delimiter=',')\n",
        "df.head()"
      ],
      "execution_count": 27,
      "outputs": [
        {
          "output_type": "execute_result",
          "data": {
            "text/html": [
              "<div>\n",
              "<style scoped>\n",
              "    .dataframe tbody tr th:only-of-type {\n",
              "        vertical-align: middle;\n",
              "    }\n",
              "\n",
              "    .dataframe tbody tr th {\n",
              "        vertical-align: top;\n",
              "    }\n",
              "\n",
              "    .dataframe thead th {\n",
              "        text-align: right;\n",
              "    }\n",
              "</style>\n",
              "<table border=\"1\" class=\"dataframe\">\n",
              "  <thead>\n",
              "    <tr style=\"text-align: right;\">\n",
              "      <th></th>\n",
              "      <th>Unnamed: 0</th>\n",
              "      <th>Link</th>\n",
              "      <th>Text</th>\n",
              "      <th>Articles</th>\n",
              "      <th>Tokens</th>\n",
              "    </tr>\n",
              "  </thead>\n",
              "  <tbody>\n",
              "    <tr>\n",
              "      <th>0</th>\n",
              "      <td>0</td>\n",
              "      <td>https://www.express.pk/story/2162926/9812</td>\n",
              "      <td>واشنگٹن: ایک نئی تحقیق کے مطابق رات میں ایک گھ...</td>\n",
              "      <td>&lt;newspaper.article.Article object at 0x7fba119...</td>\n",
              "      <td>['واشنگٹن', 'نئی', 'تحقیق', 'مطابق', 'رات', 'م...</td>\n",
              "    </tr>\n",
              "    <tr>\n",
              "      <th>1</th>\n",
              "      <td>1</td>\n",
              "      <td>https://www.express.pk/story/2162934/509</td>\n",
              "      <td>قاہرہ: اہرام مصر، فرعون اور ممیوں سے جڑی اساطی...</td>\n",
              "      <td>&lt;newspaper.article.Article object at 0x7fba123...</td>\n",
              "      <td>['قاہرہ', 'اہرام', 'مصر،', 'فرعون', 'ممیوں', '...</td>\n",
              "    </tr>\n",
              "    <tr>\n",
              "      <th>2</th>\n",
              "      <td>2</td>\n",
              "      <td>https://www.express.pk/story/2162937/10</td>\n",
              "      <td>جکارتا: انڈونیشیا میں طوفانی بارشوں، سیلاب اور...</td>\n",
              "      <td>&lt;newspaper.article.Article object at 0x7fba120...</td>\n",
              "      <td>['جکارتا', 'انڈونیشیا', 'میں', 'طوفانی', 'بارش...</td>\n",
              "    </tr>\n",
              "    <tr>\n",
              "      <th>3</th>\n",
              "      <td>4</td>\n",
              "      <td>https://www.express.pk/story/2162917/1</td>\n",
              "      <td>اسلام آباد: این سی او سی نے بین الصوبائی ٹرانس...</td>\n",
              "      <td>&lt;newspaper.article.Article object at 0x7fba123...</td>\n",
              "      <td>['اسلام', 'آباد', 'این', 'سی', 'او', 'سی', 'نے...</td>\n",
              "    </tr>\n",
              "    <tr>\n",
              "      <th>4</th>\n",
              "      <td>5</td>\n",
              "      <td>https://www.express.pk/story/2162910/10</td>\n",
              "      <td>ماسکو: روس میں اوپری منزل میں آگ لگ جانے کے ب...</td>\n",
              "      <td>&lt;newspaper.article.Article object at 0x7fba11a...</td>\n",
              "      <td>['ماسکو', 'روس', 'میں', 'اوپری', 'منزل', 'میں'...</td>\n",
              "    </tr>\n",
              "  </tbody>\n",
              "</table>\n",
              "</div>"
            ],
            "text/plain": [
              "   Unnamed: 0  ...                                             Tokens\n",
              "0           0  ...  ['واشنگٹن', 'نئی', 'تحقیق', 'مطابق', 'رات', 'م...\n",
              "1           1  ...  ['قاہرہ', 'اہرام', 'مصر،', 'فرعون', 'ممیوں', '...\n",
              "2           2  ...  ['جکارتا', 'انڈونیشیا', 'میں', 'طوفانی', 'بارش...\n",
              "3           4  ...  ['اسلام', 'آباد', 'این', 'سی', 'او', 'سی', 'نے...\n",
              "4           5  ...  ['ماسکو', 'روس', 'میں', 'اوپری', 'منزل', 'میں'...\n",
              "\n",
              "[5 rows x 5 columns]"
            ]
          },
          "metadata": {
            "tags": []
          },
          "execution_count": 27
        }
      ]
    },
    {
      "cell_type": "code",
      "metadata": {
        "colab": {
          "base_uri": "https://localhost:8080/",
          "height": 419
        },
        "id": "L15NBUck-91d",
        "outputId": "2ebbe5bc-dc8b-41d2-d79f-2a69669659f7"
      },
      "source": [
        "df.drop(columns='Unnamed: 0',axis = 1)"
      ],
      "execution_count": 29,
      "outputs": [
        {
          "output_type": "execute_result",
          "data": {
            "text/html": [
              "<div>\n",
              "<style scoped>\n",
              "    .dataframe tbody tr th:only-of-type {\n",
              "        vertical-align: middle;\n",
              "    }\n",
              "\n",
              "    .dataframe tbody tr th {\n",
              "        vertical-align: top;\n",
              "    }\n",
              "\n",
              "    .dataframe thead th {\n",
              "        text-align: right;\n",
              "    }\n",
              "</style>\n",
              "<table border=\"1\" class=\"dataframe\">\n",
              "  <thead>\n",
              "    <tr style=\"text-align: right;\">\n",
              "      <th></th>\n",
              "      <th>Link</th>\n",
              "      <th>Text</th>\n",
              "      <th>Articles</th>\n",
              "      <th>Tokens</th>\n",
              "    </tr>\n",
              "  </thead>\n",
              "  <tbody>\n",
              "    <tr>\n",
              "      <th>0</th>\n",
              "      <td>https://www.express.pk/story/2162926/9812</td>\n",
              "      <td>واشنگٹن: ایک نئی تحقیق کے مطابق رات میں ایک گھ...</td>\n",
              "      <td>&lt;newspaper.article.Article object at 0x7fba119...</td>\n",
              "      <td>['واشنگٹن', 'نئی', 'تحقیق', 'مطابق', 'رات', 'م...</td>\n",
              "    </tr>\n",
              "    <tr>\n",
              "      <th>1</th>\n",
              "      <td>https://www.express.pk/story/2162934/509</td>\n",
              "      <td>قاہرہ: اہرام مصر، فرعون اور ممیوں سے جڑی اساطی...</td>\n",
              "      <td>&lt;newspaper.article.Article object at 0x7fba123...</td>\n",
              "      <td>['قاہرہ', 'اہرام', 'مصر،', 'فرعون', 'ممیوں', '...</td>\n",
              "    </tr>\n",
              "    <tr>\n",
              "      <th>2</th>\n",
              "      <td>https://www.express.pk/story/2162937/10</td>\n",
              "      <td>جکارتا: انڈونیشیا میں طوفانی بارشوں، سیلاب اور...</td>\n",
              "      <td>&lt;newspaper.article.Article object at 0x7fba120...</td>\n",
              "      <td>['جکارتا', 'انڈونیشیا', 'میں', 'طوفانی', 'بارش...</td>\n",
              "    </tr>\n",
              "    <tr>\n",
              "      <th>3</th>\n",
              "      <td>https://www.express.pk/story/2162917/1</td>\n",
              "      <td>اسلام آباد: این سی او سی نے بین الصوبائی ٹرانس...</td>\n",
              "      <td>&lt;newspaper.article.Article object at 0x7fba123...</td>\n",
              "      <td>['اسلام', 'آباد', 'این', 'سی', 'او', 'سی', 'نے...</td>\n",
              "    </tr>\n",
              "    <tr>\n",
              "      <th>4</th>\n",
              "      <td>https://www.express.pk/story/2162910/10</td>\n",
              "      <td>ماسکو: روس میں اوپری منزل میں آگ لگ جانے کے ب...</td>\n",
              "      <td>&lt;newspaper.article.Article object at 0x7fba11a...</td>\n",
              "      <td>['ماسکو', 'روس', 'میں', 'اوپری', 'منزل', 'میں'...</td>\n",
              "    </tr>\n",
              "    <tr>\n",
              "      <th>...</th>\n",
              "      <td>...</td>\n",
              "      <td>...</td>\n",
              "      <td>...</td>\n",
              "      <td>...</td>\n",
              "    </tr>\n",
              "    <tr>\n",
              "      <th>181</th>\n",
              "      <td>https://dailypakistan.com.pk/03-Apr-2021/1271829</td>\n",
              "      <td>سپرسانک کمپنی کی امریکی حکام کیلئے مسافر طیارہ...</td>\n",
              "      <td>&lt;newspaper.article.Article object at 0x7fba113...</td>\n",
              "      <td>['سپرسانک', 'کمپنی', 'امریکی', 'حکام', 'مسافر'...</td>\n",
              "    </tr>\n",
              "    <tr>\n",
              "      <th>182</th>\n",
              "      <td>https://dailypakistan.com.pk/28-Mar-2021/1269166</td>\n",
              "      <td>’ہم تو پاکستان میں دفتر کھول ہی نہیں رہے‘ فیس ...</td>\n",
              "      <td>&lt;newspaper.article.Article object at 0x7fba113...</td>\n",
              "      <td>['’', 'ہم', 'پاکستان', 'میں', 'دفتر', 'کھول', ...</td>\n",
              "    </tr>\n",
              "    <tr>\n",
              "      <th>183</th>\n",
              "      <td>https://dailypakistan.com.pk/27-Mar-2021/1268694</td>\n",
              "      <td>ویوو نے Zeissکے اشتراک سے نیا فون X60 Pro پاکس...</td>\n",
              "      <td>&lt;newspaper.article.Article object at 0x7fba113...</td>\n",
              "      <td>['ویوو', 'نے', 'Zeissکے', 'اشتراک', 'سے', 'نیا...</td>\n",
              "    </tr>\n",
              "    <tr>\n",
              "      <th>184</th>\n",
              "      <td>https://dailypakistan.com.pk/30-Mar-2021/1270098</td>\n",
              "      <td>آرمی چیف کا راولپنڈی میں لاجسٹک تنصیبات کادورہ...</td>\n",
              "      <td>&lt;newspaper.article.Article object at 0x7fba113...</td>\n",
              "      <td>['آرمی', 'چیف', 'کا', 'راولپنڈی', 'میں', 'لاجس...</td>\n",
              "    </tr>\n",
              "    <tr>\n",
              "      <th>185</th>\n",
              "      <td>https://dailypakistan.com.pk/29-Mar-2021/1269634</td>\n",
              "      <td>عارف علوی اور پرویز خٹک کورونا میں مبتلا، 4 رو...</td>\n",
              "      <td>&lt;newspaper.article.Article object at 0x7fba113...</td>\n",
              "      <td>['عارف', 'علوی', 'پرویز', 'خٹک', 'کورونا', 'می...</td>\n",
              "    </tr>\n",
              "  </tbody>\n",
              "</table>\n",
              "<p>186 rows × 4 columns</p>\n",
              "</div>"
            ],
            "text/plain": [
              "                                                 Link  ...                                             Tokens\n",
              "0           https://www.express.pk/story/2162926/9812  ...  ['واشنگٹن', 'نئی', 'تحقیق', 'مطابق', 'رات', 'م...\n",
              "1            https://www.express.pk/story/2162934/509  ...  ['قاہرہ', 'اہرام', 'مصر،', 'فرعون', 'ممیوں', '...\n",
              "2             https://www.express.pk/story/2162937/10  ...  ['جکارتا', 'انڈونیشیا', 'میں', 'طوفانی', 'بارش...\n",
              "3              https://www.express.pk/story/2162917/1  ...  ['اسلام', 'آباد', 'این', 'سی', 'او', 'سی', 'نے...\n",
              "4             https://www.express.pk/story/2162910/10  ...  ['ماسکو', 'روس', 'میں', 'اوپری', 'منزل', 'میں'...\n",
              "..                                                ...  ...                                                ...\n",
              "181  https://dailypakistan.com.pk/03-Apr-2021/1271829  ...  ['سپرسانک', 'کمپنی', 'امریکی', 'حکام', 'مسافر'...\n",
              "182  https://dailypakistan.com.pk/28-Mar-2021/1269166  ...  ['’', 'ہم', 'پاکستان', 'میں', 'دفتر', 'کھول', ...\n",
              "183  https://dailypakistan.com.pk/27-Mar-2021/1268694  ...  ['ویوو', 'نے', 'Zeissکے', 'اشتراک', 'سے', 'نیا...\n",
              "184  https://dailypakistan.com.pk/30-Mar-2021/1270098  ...  ['آرمی', 'چیف', 'کا', 'راولپنڈی', 'میں', 'لاجس...\n",
              "185  https://dailypakistan.com.pk/29-Mar-2021/1269634  ...  ['عارف', 'علوی', 'پرویز', 'خٹک', 'کورونا', 'می...\n",
              "\n",
              "[186 rows x 4 columns]"
            ]
          },
          "metadata": {
            "tags": []
          },
          "execution_count": 29
        }
      ]
    },
    {
      "cell_type": "code",
      "metadata": {
        "id": "zYrktXS7_06D"
      },
      "source": [
        "toks = [i.split(\"', '\") for i in df.Tokens]"
      ],
      "execution_count": 30,
      "outputs": []
    },
    {
      "cell_type": "code",
      "metadata": {
        "id": "B040Ji1EBiwM"
      },
      "source": [
        "for i in range(len(toks)):\n",
        "  toks[i][0] = toks[i][0][2:]"
      ],
      "execution_count": 31,
      "outputs": []
    },
    {
      "cell_type": "code",
      "metadata": {
        "id": "-rxI4ipuB_j1"
      },
      "source": [
        "df['Tokens'] = toks"
      ],
      "execution_count": 32,
      "outputs": []
    },
    {
      "cell_type": "code",
      "metadata": {
        "colab": {
          "base_uri": "https://localhost:8080/",
          "height": 306
        },
        "id": "q9A_blFbCEcz",
        "outputId": "e7ac7298-bb6a-4412-cebc-f28f73b63c8c"
      },
      "source": [
        "df.head()"
      ],
      "execution_count": 33,
      "outputs": [
        {
          "output_type": "execute_result",
          "data": {
            "text/html": [
              "<div>\n",
              "<style scoped>\n",
              "    .dataframe tbody tr th:only-of-type {\n",
              "        vertical-align: middle;\n",
              "    }\n",
              "\n",
              "    .dataframe tbody tr th {\n",
              "        vertical-align: top;\n",
              "    }\n",
              "\n",
              "    .dataframe thead th {\n",
              "        text-align: right;\n",
              "    }\n",
              "</style>\n",
              "<table border=\"1\" class=\"dataframe\">\n",
              "  <thead>\n",
              "    <tr style=\"text-align: right;\">\n",
              "      <th></th>\n",
              "      <th>Unnamed: 0</th>\n",
              "      <th>Link</th>\n",
              "      <th>Text</th>\n",
              "      <th>Articles</th>\n",
              "      <th>Tokens</th>\n",
              "    </tr>\n",
              "  </thead>\n",
              "  <tbody>\n",
              "    <tr>\n",
              "      <th>0</th>\n",
              "      <td>0</td>\n",
              "      <td>https://www.express.pk/story/2162926/9812</td>\n",
              "      <td>واشنگٹن: ایک نئی تحقیق کے مطابق رات میں ایک گھ...</td>\n",
              "      <td>&lt;newspaper.article.Article object at 0x7fba119...</td>\n",
              "      <td>[واشنگٹن, نئی, تحقیق, مطابق, رات, میں, گھنٹہ, ...</td>\n",
              "    </tr>\n",
              "    <tr>\n",
              "      <th>1</th>\n",
              "      <td>1</td>\n",
              "      <td>https://www.express.pk/story/2162934/509</td>\n",
              "      <td>قاہرہ: اہرام مصر، فرعون اور ممیوں سے جڑی اساطی...</td>\n",
              "      <td>&lt;newspaper.article.Article object at 0x7fba123...</td>\n",
              "      <td>[قاہرہ, اہرام, مصر،, فرعون, ممیوں, سے, جڑی, اس...</td>\n",
              "    </tr>\n",
              "    <tr>\n",
              "      <th>2</th>\n",
              "      <td>2</td>\n",
              "      <td>https://www.express.pk/story/2162937/10</td>\n",
              "      <td>جکارتا: انڈونیشیا میں طوفانی بارشوں، سیلاب اور...</td>\n",
              "      <td>&lt;newspaper.article.Article object at 0x7fba120...</td>\n",
              "      <td>[جکارتا, انڈونیشیا, میں, طوفانی, بارشوں،, سیلا...</td>\n",
              "    </tr>\n",
              "    <tr>\n",
              "      <th>3</th>\n",
              "      <td>4</td>\n",
              "      <td>https://www.express.pk/story/2162917/1</td>\n",
              "      <td>اسلام آباد: این سی او سی نے بین الصوبائی ٹرانس...</td>\n",
              "      <td>&lt;newspaper.article.Article object at 0x7fba123...</td>\n",
              "      <td>[اسلام, آباد, این, سی, او, سی, نے, بین, الصوبا...</td>\n",
              "    </tr>\n",
              "    <tr>\n",
              "      <th>4</th>\n",
              "      <td>5</td>\n",
              "      <td>https://www.express.pk/story/2162910/10</td>\n",
              "      <td>ماسکو: روس میں اوپری منزل میں آگ لگ جانے کے ب...</td>\n",
              "      <td>&lt;newspaper.article.Article object at 0x7fba11a...</td>\n",
              "      <td>[ماسکو, روس, میں, اوپری, منزل, میں, آگ, لگ, ج...</td>\n",
              "    </tr>\n",
              "  </tbody>\n",
              "</table>\n",
              "</div>"
            ],
            "text/plain": [
              "   Unnamed: 0  ...                                             Tokens\n",
              "0           0  ...  [واشنگٹن, نئی, تحقیق, مطابق, رات, میں, گھنٹہ, ...\n",
              "1           1  ...  [قاہرہ, اہرام, مصر،, فرعون, ممیوں, سے, جڑی, اس...\n",
              "2           2  ...  [جکارتا, انڈونیشیا, میں, طوفانی, بارشوں،, سیلا...\n",
              "3           4  ...  [اسلام, آباد, این, سی, او, سی, نے, بین, الصوبا...\n",
              "4           5  ...  [ماسکو, روس, میں, اوپری, منزل, میں, آگ, لگ, ج...\n",
              "\n",
              "[5 rows x 5 columns]"
            ]
          },
          "metadata": {
            "tags": []
          },
          "execution_count": 33
        }
      ]
    },
    {
      "cell_type": "code",
      "metadata": {
        "id": "gu3kl-JCP7Z_"
      },
      "source": [
        "dictionary = []\n",
        "dictionary = [dictionary + df['Tokens'][i] for i in list(df['Tokens'].index)]\n",
        "\n"
      ],
      "execution_count": 34,
      "outputs": []
    },
    {
      "cell_type": "code",
      "metadata": {
        "id": "zn627c9zhNiV"
      },
      "source": [
        "ner = {}\n",
        "f = open(\"/content/drive/MyDrive/DRP_Dr.Agha/mk-pucit.txt\", \"r\")\n",
        "lines = [x for x in f]\n",
        "w = [lines[i].split(\"\\t\") for i in range(len(lines))]\n",
        "for i in w:\n",
        "  ner[i[0]] = i[1][:-1]\n"
      ],
      "execution_count": 35,
      "outputs": []
    },
    {
      "cell_type": "code",
      "metadata": {
        "colab": {
          "base_uri": "https://localhost:8080/"
        },
        "id": "UIl2N7Kqj2Se",
        "outputId": "ec52c796-0edd-42cd-b75b-72615acc2108"
      },
      "source": [
        "tokens  = df['Tokens']\n",
        "for x in tokens:\n",
        "  print(x)\n",
        "  break"
      ],
      "execution_count": 36,
      "outputs": [
        {
          "output_type": "stream",
          "text": [
            "['واشنگٹن', 'نئی', 'تحقیق', 'مطابق', 'رات', 'میں', 'گھنٹہ', 'اضافی', 'نیند', 'سے', 'کورونا', 'میں', 'مبتلا', 'ہونے', 'خطرات', 'کو', '12', 'فیصد', 'کم', 'کیا', 'جاسکتا', 'ہے۔', 'طبی', 'جریدے', '’', 'بی', 'ایم', 'جے', 'نیوٹریشن،', 'پروینشن', 'اینڈ', 'ہیلتھ', '‘', 'میں', 'حال', 'میں', 'شائع', 'مطالعے', 'سے', 'کورونا', 'ہونے', 'والی', 'تحقیق', 'میں', 'نئی', 'پیش', 'رفت', 'سامنے', 'آئی', 'ہے۔', 'اس', 'مطالعے', 'میں', 'ایسے', '2800', 'سے', 'زائد', 'فرنٹ', 'لائن', 'ہیلتھ', 'ورکرز', 'کو', 'شامل', 'کیا', 'گیا', 'جو', 'اس', 'وبا', 'آغاز', 'سے', 'تاحال', 'کورونا', 'کا', 'سامنا', 'کر', 'ہیں۔', 'تحقیق', 'میں', 'شامل', 'جن', 'ہیلتھ', 'کیئر', 'ورکرز', 'کو', 'رات', 'میں', 'سونے', 'لیے', 'گھنٹہ', 'اضافی', 'وقت', 'دیا', 'گیا', 'ان', 'میں', 'کووڈ', '19', 'میں', 'مبتلا', 'ہونے', 'کا', 'خطرہ', '12', 'فیصد', 'کم', 'ہوگیا', 'جب', 'وہ', 'ورکرز', 'جو', 'گہری', 'نیند', 'سونے', 'میں', 'ناکام', 'ان', 'میں', 'وائرس', 'سے', 'متاثر', 'ہونے', 'خطرات', 'بڑھ', 'گئے۔', 'اس', 'نئی', 'تحقیق', 'بارے', 'میں', '’', 'اوہایو', 'اسٹیٹ', 'یونیورسٹی', 'ویکسنر', 'میڈیکل', 'سینٹر', '‘', 'میں', '’', 'سلیپ', 'میڈیسن', '‘', 'ماہر', 'ڈاکٹر', 'اسٹیون', 'ہولفنگر', 'کا', 'کہنا', 'نیند', 'میں', 'کمی', 'سے', 'انسانی', 'جسم', 'بہت', 'سے', 'مسائل', 'کا', 'شکار', 'ہوجاتا', 'اسی', 'وجہ', 'سے', 'ہیلتھ', 'ورکرز', 'میں', 'کووڈ', '19', 'میں', 'مبتلا', 'ہونے', 'کا', 'خطرہ', 'بڑھ', 'جاتا', 'تاہم', 'اس', 'بات', 'کو', 'مزید', 'ثابت', 'کرنے', 'لیے', 'مزید', 'تحقیق', 'کرنے', 'ہے۔', 'یاد', 'اسی', 'نوعیت', 'تحقیق', 'گزشتہ', 'سال', '’', 'یو', 'ایس', 'نیشنل', 'لائبریری', 'آف', 'سائنس', '‘', 'میں', 'شائع', 'جس', 'میں', 'کورونا', 'وائرس', 'کو', 'چین', 'تناظر', 'میں', 'دیکھتے', 'نتیجہ', 'اخذ', 'کیا', 'گیا', 'تھا', 'کورونا', 'میں', 'مبتلا', 'ہونے', 'ایسے', 'جنہوں', 'نے', 'اس', 'بیماری', 'کا', 'شکار', 'ہونے', 'سے', 'ہفتے', 'قبل', 'بھرپور', 'نیند', 'نہیں', 'ان', 'جسم', 'میں', 'اس', 'وائرس', 'نے', 'بہت', 'نقصان', 'پہنچایا۔', 'محققین', 'مطابق', 'انسانی', 'جسم', 'میں', 'سونے', 'جاگنے', 'چکر', 'سائیکل', 'میں', 'اہم', 'کردار', 'ادا', 'کرنے', 'ہارمون', '’', 'میلا', 'ٹونن', '‘', 'کا', 'ہاتھ', 'بھی', 'ہوسکتا', 'جس', 'سے', 'کووڈ', '19', 'وائرس', 'کو', 'توڑنے', 'میں', 'مدد', 'مل', 'سکتی', 'کیونکہ', 'بھرپور', 'نیند', 'انسانی', 'جسم', 'مدافعتی', 'نظام', 'کو', 'مضبوط', 'بنانے', 'میں', 'اہم', 'کردار', 'ادا', 'ہے۔', 'ہمارا', 'جسم', 'انفیکشن', 'سے', 'لڑتے', 'پروٹین', '’', 'سائٹو', 'کنز', '‘', 'خارج', 'کرتا', 'جس', 'سے', 'نیند', 'آتی', 'بھرپور', 'نیند', 'نہ', 'صرف', 'ہمارے', 'مدافعتی', 'نظام', 'بلکہ', 'ہماری', 'زندگی', 'معیار', 'کو', 'بھی', 'بہتر', 'بناتی', 'تاہم', 'اس', 'تحقیق', 'میں', 'مزید', 'پیش', 'رفت', 'جاری', \"ہے۔']\"]\n"
          ],
          "name": "stdout"
        }
      ]
    },
    {
      "cell_type": "code",
      "metadata": {
        "id": "BGLzIeVj33VI"
      },
      "source": [
        "\n",
        "tokens  = df['Tokens']\n",
        "ner_tokens = []\n",
        "ner_list = list(ner.keys())\n",
        "for toks in tokens:\n",
        "  ner_toks = []\n",
        "  for i in toks:\n",
        "    if (i in ner_list):\n",
        "      ner_toks.append(ner[i])\n",
        "    else:\n",
        "      ner_toks.append(\"Other\")\n",
        "  ner_tokens.append(ner_toks)\n"
      ],
      "execution_count": 37,
      "outputs": []
    },
    {
      "cell_type": "code",
      "metadata": {
        "colab": {
          "base_uri": "https://localhost:8080/"
        },
        "id": "g_HYKqXinfx_",
        "outputId": "70a11d6c-d139-49d3-e073-533d29ea186a"
      },
      "source": [
        "np.unique(ner_tokens[93])\n",
        "# 'Organization' in un"
      ],
      "execution_count": null,
      "outputs": [
        {
          "output_type": "execute_result",
          "data": {
            "text/plain": [
              "array(['Location', 'Organization', 'Other', 'Person'], dtype='<U12')"
            ]
          },
          "metadata": {
            "tags": []
          },
          "execution_count": 28
        }
      ]
    },
    {
      "cell_type": "code",
      "metadata": {
        "id": "S48Var9UonZE",
        "colab": {
          "base_uri": "https://localhost:8080/",
          "height": 306
        },
        "outputId": "e3b715cb-ada3-4b60-f346-0af8141c38f4"
      },
      "source": [
        "\n",
        "df['NER_Tokens'] = ner_tokens\n",
        "df.head()"
      ],
      "execution_count": 38,
      "outputs": [
        {
          "output_type": "execute_result",
          "data": {
            "text/html": [
              "<div>\n",
              "<style scoped>\n",
              "    .dataframe tbody tr th:only-of-type {\n",
              "        vertical-align: middle;\n",
              "    }\n",
              "\n",
              "    .dataframe tbody tr th {\n",
              "        vertical-align: top;\n",
              "    }\n",
              "\n",
              "    .dataframe thead th {\n",
              "        text-align: right;\n",
              "    }\n",
              "</style>\n",
              "<table border=\"1\" class=\"dataframe\">\n",
              "  <thead>\n",
              "    <tr style=\"text-align: right;\">\n",
              "      <th></th>\n",
              "      <th>Unnamed: 0</th>\n",
              "      <th>Link</th>\n",
              "      <th>Text</th>\n",
              "      <th>Articles</th>\n",
              "      <th>Tokens</th>\n",
              "      <th>NER_Tokens</th>\n",
              "    </tr>\n",
              "  </thead>\n",
              "  <tbody>\n",
              "    <tr>\n",
              "      <th>0</th>\n",
              "      <td>0</td>\n",
              "      <td>https://www.express.pk/story/2162926/9812</td>\n",
              "      <td>واشنگٹن: ایک نئی تحقیق کے مطابق رات میں ایک گھ...</td>\n",
              "      <td>&lt;newspaper.article.Article object at 0x7fba119...</td>\n",
              "      <td>[واشنگٹن, نئی, تحقیق, مطابق, رات, میں, گھنٹہ, ...</td>\n",
              "      <td>[Location, Other, Other, Other, Other, Other, ...</td>\n",
              "    </tr>\n",
              "    <tr>\n",
              "      <th>1</th>\n",
              "      <td>1</td>\n",
              "      <td>https://www.express.pk/story/2162934/509</td>\n",
              "      <td>قاہرہ: اہرام مصر، فرعون اور ممیوں سے جڑی اساطی...</td>\n",
              "      <td>&lt;newspaper.article.Article object at 0x7fba123...</td>\n",
              "      <td>[قاہرہ, اہرام, مصر،, فرعون, ممیوں, سے, جڑی, اس...</td>\n",
              "      <td>[Location, Other, Other, Person, Other, Other,...</td>\n",
              "    </tr>\n",
              "    <tr>\n",
              "      <th>2</th>\n",
              "      <td>2</td>\n",
              "      <td>https://www.express.pk/story/2162937/10</td>\n",
              "      <td>جکارتا: انڈونیشیا میں طوفانی بارشوں، سیلاب اور...</td>\n",
              "      <td>&lt;newspaper.article.Article object at 0x7fba120...</td>\n",
              "      <td>[جکارتا, انڈونیشیا, میں, طوفانی, بارشوں،, سیلا...</td>\n",
              "      <td>[Location, Other, Other, Other, Other, Other, ...</td>\n",
              "    </tr>\n",
              "    <tr>\n",
              "      <th>3</th>\n",
              "      <td>4</td>\n",
              "      <td>https://www.express.pk/story/2162917/1</td>\n",
              "      <td>اسلام آباد: این سی او سی نے بین الصوبائی ٹرانس...</td>\n",
              "      <td>&lt;newspaper.article.Article object at 0x7fba123...</td>\n",
              "      <td>[اسلام, آباد, این, سی, او, سی, نے, بین, الصوبا...</td>\n",
              "      <td>[Location, Location, Organization, Other, Pers...</td>\n",
              "    </tr>\n",
              "    <tr>\n",
              "      <th>4</th>\n",
              "      <td>5</td>\n",
              "      <td>https://www.express.pk/story/2162910/10</td>\n",
              "      <td>ماسکو: روس میں اوپری منزل میں آگ لگ جانے کے ب...</td>\n",
              "      <td>&lt;newspaper.article.Article object at 0x7fba11a...</td>\n",
              "      <td>[ماسکو, روس, میں, اوپری, منزل, میں, آگ, لگ, ج...</td>\n",
              "      <td>[Other, Other, Other, Other, Other, Other, Oth...</td>\n",
              "    </tr>\n",
              "  </tbody>\n",
              "</table>\n",
              "</div>"
            ],
            "text/plain": [
              "   Unnamed: 0  ...                                         NER_Tokens\n",
              "0           0  ...  [Location, Other, Other, Other, Other, Other, ...\n",
              "1           1  ...  [Location, Other, Other, Person, Other, Other,...\n",
              "2           2  ...  [Location, Other, Other, Other, Other, Other, ...\n",
              "3           4  ...  [Location, Location, Organization, Other, Pers...\n",
              "4           5  ...  [Other, Other, Other, Other, Other, Other, Oth...\n",
              "\n",
              "[5 rows x 6 columns]"
            ]
          },
          "metadata": {
            "tags": []
          },
          "execution_count": 38
        }
      ]
    },
    {
      "cell_type": "code",
      "metadata": {
        "id": "Y6ILcPanwC_R"
      },
      "source": [
        "\n",
        "counts = [[],[],[],[]]\n",
        "ls = ['Location', 'Organization', 'Other', 'Person']\n",
        "for toks in ner_tokens:\n",
        "  for tag in range(len(ls)):\n",
        "    indices = [i for i, x in enumerate(toks) if x == ls[tag]]\n",
        "    counts[tag].append(len(indices))\n"
      ],
      "execution_count": 39,
      "outputs": []
    },
    {
      "cell_type": "code",
      "metadata": {
        "colab": {
          "base_uri": "https://localhost:8080/",
          "height": 391
        },
        "id": "ABPE7EdLycpR",
        "outputId": "df18d4ad-9c7d-4e0b-d083-f7e206c6ec37"
      },
      "source": [
        "for x in range(len(ls)):\n",
        "  df[ls[x]] = counts[x]\n",
        "\n",
        "df.head()"
      ],
      "execution_count": 40,
      "outputs": [
        {
          "output_type": "execute_result",
          "data": {
            "text/html": [
              "<div>\n",
              "<style scoped>\n",
              "    .dataframe tbody tr th:only-of-type {\n",
              "        vertical-align: middle;\n",
              "    }\n",
              "\n",
              "    .dataframe tbody tr th {\n",
              "        vertical-align: top;\n",
              "    }\n",
              "\n",
              "    .dataframe thead th {\n",
              "        text-align: right;\n",
              "    }\n",
              "</style>\n",
              "<table border=\"1\" class=\"dataframe\">\n",
              "  <thead>\n",
              "    <tr style=\"text-align: right;\">\n",
              "      <th></th>\n",
              "      <th>Unnamed: 0</th>\n",
              "      <th>Link</th>\n",
              "      <th>Text</th>\n",
              "      <th>Articles</th>\n",
              "      <th>Tokens</th>\n",
              "      <th>NER_Tokens</th>\n",
              "      <th>Location</th>\n",
              "      <th>Organization</th>\n",
              "      <th>Other</th>\n",
              "      <th>Person</th>\n",
              "    </tr>\n",
              "  </thead>\n",
              "  <tbody>\n",
              "    <tr>\n",
              "      <th>0</th>\n",
              "      <td>0</td>\n",
              "      <td>https://www.express.pk/story/2162926/9812</td>\n",
              "      <td>واشنگٹن: ایک نئی تحقیق کے مطابق رات میں ایک گھ...</td>\n",
              "      <td>&lt;newspaper.article.Article object at 0x7fba119...</td>\n",
              "      <td>[واشنگٹن, نئی, تحقیق, مطابق, رات, میں, گھنٹہ, ...</td>\n",
              "      <td>[Location, Other, Other, Other, Other, Other, ...</td>\n",
              "      <td>7</td>\n",
              "      <td>4</td>\n",
              "      <td>321</td>\n",
              "      <td>1</td>\n",
              "    </tr>\n",
              "    <tr>\n",
              "      <th>1</th>\n",
              "      <td>1</td>\n",
              "      <td>https://www.express.pk/story/2162934/509</td>\n",
              "      <td>قاہرہ: اہرام مصر، فرعون اور ممیوں سے جڑی اساطی...</td>\n",
              "      <td>&lt;newspaper.article.Article object at 0x7fba123...</td>\n",
              "      <td>[قاہرہ, اہرام, مصر،, فرعون, ممیوں, سے, جڑی, اس...</td>\n",
              "      <td>[Location, Other, Other, Person, Other, Other,...</td>\n",
              "      <td>10</td>\n",
              "      <td>1</td>\n",
              "      <td>227</td>\n",
              "      <td>5</td>\n",
              "    </tr>\n",
              "    <tr>\n",
              "      <th>2</th>\n",
              "      <td>2</td>\n",
              "      <td>https://www.express.pk/story/2162937/10</td>\n",
              "      <td>جکارتا: انڈونیشیا میں طوفانی بارشوں، سیلاب اور...</td>\n",
              "      <td>&lt;newspaper.article.Article object at 0x7fba120...</td>\n",
              "      <td>[جکارتا, انڈونیشیا, میں, طوفانی, بارشوں،, سیلا...</td>\n",
              "      <td>[Location, Other, Other, Other, Other, Other, ...</td>\n",
              "      <td>3</td>\n",
              "      <td>0</td>\n",
              "      <td>182</td>\n",
              "      <td>0</td>\n",
              "    </tr>\n",
              "    <tr>\n",
              "      <th>3</th>\n",
              "      <td>4</td>\n",
              "      <td>https://www.express.pk/story/2162917/1</td>\n",
              "      <td>اسلام آباد: این سی او سی نے بین الصوبائی ٹرانس...</td>\n",
              "      <td>&lt;newspaper.article.Article object at 0x7fba123...</td>\n",
              "      <td>[اسلام, آباد, این, سی, او, سی, نے, بین, الصوبا...</td>\n",
              "      <td>[Location, Location, Organization, Other, Pers...</td>\n",
              "      <td>2</td>\n",
              "      <td>4</td>\n",
              "      <td>143</td>\n",
              "      <td>3</td>\n",
              "    </tr>\n",
              "    <tr>\n",
              "      <th>4</th>\n",
              "      <td>5</td>\n",
              "      <td>https://www.express.pk/story/2162910/10</td>\n",
              "      <td>ماسکو: روس میں اوپری منزل میں آگ لگ جانے کے ب...</td>\n",
              "      <td>&lt;newspaper.article.Article object at 0x7fba11a...</td>\n",
              "      <td>[ماسکو, روس, میں, اوپری, منزل, میں, آگ, لگ, ج...</td>\n",
              "      <td>[Other, Other, Other, Other, Other, Other, Oth...</td>\n",
              "      <td>0</td>\n",
              "      <td>1</td>\n",
              "      <td>138</td>\n",
              "      <td>0</td>\n",
              "    </tr>\n",
              "  </tbody>\n",
              "</table>\n",
              "</div>"
            ],
            "text/plain": [
              "   Unnamed: 0                                       Link  ... Other Person\n",
              "0           0  https://www.express.pk/story/2162926/9812  ...   321      1\n",
              "1           1   https://www.express.pk/story/2162934/509  ...   227      5\n",
              "2           2    https://www.express.pk/story/2162937/10  ...   182      0\n",
              "3           4     https://www.express.pk/story/2162917/1  ...   143      3\n",
              "4           5    https://www.express.pk/story/2162910/10  ...   138      0\n",
              "\n",
              "[5 rows x 10 columns]"
            ]
          },
          "metadata": {
            "tags": []
          },
          "execution_count": 40
        }
      ]
    },
    {
      "cell_type": "code",
      "metadata": {
        "id": "oo7I0u_06Un6"
      },
      "source": [
        "ls = ['کوئٹہ','لاہور','وزیراعظم','اسلام','کراچی','صوبے','پاکستانی','سندھ','کشمیر','آرمی',]\n",
        "new_df_2 = []\n",
        "for i in df.index:\n",
        "  if df['Tokens'][i][0] in ls:\n",
        "    try:\n",
        "      new_df_2.append(df.iloc[i])\n",
        "    except:\n",
        "      pass"
      ],
      "execution_count": 41,
      "outputs": []
    },
    {
      "cell_type": "code",
      "metadata": {
        "colab": {
          "base_uri": "https://localhost:8080/",
          "height": 391
        },
        "id": "dahuGNor5Tl6",
        "outputId": "14bb6c33-9301-4416-a574-b0dca81b8aa5"
      },
      "source": [
        "# new_df_2 = pd.DataFrame(new_df_2)\n",
        "new_df_2 = df\n",
        "new_df_2 = new_df_2[new_df_2['Organization'] > 0]\n",
        "new_df_2.reset_index()\n",
        "new_df_2.head()\n"
      ],
      "execution_count": 42,
      "outputs": [
        {
          "output_type": "execute_result",
          "data": {
            "text/html": [
              "<div>\n",
              "<style scoped>\n",
              "    .dataframe tbody tr th:only-of-type {\n",
              "        vertical-align: middle;\n",
              "    }\n",
              "\n",
              "    .dataframe tbody tr th {\n",
              "        vertical-align: top;\n",
              "    }\n",
              "\n",
              "    .dataframe thead th {\n",
              "        text-align: right;\n",
              "    }\n",
              "</style>\n",
              "<table border=\"1\" class=\"dataframe\">\n",
              "  <thead>\n",
              "    <tr style=\"text-align: right;\">\n",
              "      <th></th>\n",
              "      <th>Unnamed: 0</th>\n",
              "      <th>Link</th>\n",
              "      <th>Text</th>\n",
              "      <th>Articles</th>\n",
              "      <th>Tokens</th>\n",
              "      <th>NER_Tokens</th>\n",
              "      <th>Location</th>\n",
              "      <th>Organization</th>\n",
              "      <th>Other</th>\n",
              "      <th>Person</th>\n",
              "    </tr>\n",
              "  </thead>\n",
              "  <tbody>\n",
              "    <tr>\n",
              "      <th>0</th>\n",
              "      <td>0</td>\n",
              "      <td>https://www.express.pk/story/2162926/9812</td>\n",
              "      <td>واشنگٹن: ایک نئی تحقیق کے مطابق رات میں ایک گھ...</td>\n",
              "      <td>&lt;newspaper.article.Article object at 0x7fba119...</td>\n",
              "      <td>[واشنگٹن, نئی, تحقیق, مطابق, رات, میں, گھنٹہ, ...</td>\n",
              "      <td>[Location, Other, Other, Other, Other, Other, ...</td>\n",
              "      <td>7</td>\n",
              "      <td>4</td>\n",
              "      <td>321</td>\n",
              "      <td>1</td>\n",
              "    </tr>\n",
              "    <tr>\n",
              "      <th>1</th>\n",
              "      <td>1</td>\n",
              "      <td>https://www.express.pk/story/2162934/509</td>\n",
              "      <td>قاہرہ: اہرام مصر، فرعون اور ممیوں سے جڑی اساطی...</td>\n",
              "      <td>&lt;newspaper.article.Article object at 0x7fba123...</td>\n",
              "      <td>[قاہرہ, اہرام, مصر،, فرعون, ممیوں, سے, جڑی, اس...</td>\n",
              "      <td>[Location, Other, Other, Person, Other, Other,...</td>\n",
              "      <td>10</td>\n",
              "      <td>1</td>\n",
              "      <td>227</td>\n",
              "      <td>5</td>\n",
              "    </tr>\n",
              "    <tr>\n",
              "      <th>3</th>\n",
              "      <td>4</td>\n",
              "      <td>https://www.express.pk/story/2162917/1</td>\n",
              "      <td>اسلام آباد: این سی او سی نے بین الصوبائی ٹرانس...</td>\n",
              "      <td>&lt;newspaper.article.Article object at 0x7fba123...</td>\n",
              "      <td>[اسلام, آباد, این, سی, او, سی, نے, بین, الصوبا...</td>\n",
              "      <td>[Location, Location, Organization, Other, Pers...</td>\n",
              "      <td>2</td>\n",
              "      <td>4</td>\n",
              "      <td>143</td>\n",
              "      <td>3</td>\n",
              "    </tr>\n",
              "    <tr>\n",
              "      <th>4</th>\n",
              "      <td>5</td>\n",
              "      <td>https://www.express.pk/story/2162910/10</td>\n",
              "      <td>ماسکو: روس میں اوپری منزل میں آگ لگ جانے کے ب...</td>\n",
              "      <td>&lt;newspaper.article.Article object at 0x7fba11a...</td>\n",
              "      <td>[ماسکو, روس, میں, اوپری, منزل, میں, آگ, لگ, ج...</td>\n",
              "      <td>[Other, Other, Other, Other, Other, Other, Oth...</td>\n",
              "      <td>0</td>\n",
              "      <td>1</td>\n",
              "      <td>138</td>\n",
              "      <td>0</td>\n",
              "    </tr>\n",
              "    <tr>\n",
              "      <th>5</th>\n",
              "      <td>6</td>\n",
              "      <td>https://www.express.pk/story/2162900/16</td>\n",
              "      <td>ڈھاکا: پاکستان نے تین ملکی ٹی ٹوئنٹی بلائنڈکرک...</td>\n",
              "      <td>&lt;newspaper.article.Article object at 0x7fba11a...</td>\n",
              "      <td>[ڈھاکا, پاکستان, نے, تین, ملکی, ٹی, ٹوئنٹی, بل...</td>\n",
              "      <td>[Organization, Location, Other, Other, Other, ...</td>\n",
              "      <td>21</td>\n",
              "      <td>4</td>\n",
              "      <td>151</td>\n",
              "      <td>9</td>\n",
              "    </tr>\n",
              "  </tbody>\n",
              "</table>\n",
              "</div>"
            ],
            "text/plain": [
              "   Unnamed: 0                                       Link  ... Other Person\n",
              "0           0  https://www.express.pk/story/2162926/9812  ...   321      1\n",
              "1           1   https://www.express.pk/story/2162934/509  ...   227      5\n",
              "3           4     https://www.express.pk/story/2162917/1  ...   143      3\n",
              "4           5    https://www.express.pk/story/2162910/10  ...   138      0\n",
              "5           6    https://www.express.pk/story/2162900/16  ...   151      9\n",
              "\n",
              "[5 rows x 10 columns]"
            ]
          },
          "metadata": {
            "tags": []
          },
          "execution_count": 42
        }
      ]
    },
    {
      "cell_type": "code",
      "metadata": {
        "id": "qS2B773OY0-j"
      },
      "source": [
        "from google.colab import auth\n",
        "auth.authenticate_user()\n",
        "\n",
        "import gspread\n",
        "from oauth2client.client import GoogleCredentials\n",
        "\n",
        "gc = gspread.authorize(GoogleCredentials.get_application_default())\n",
        "\n",
        "worksheet = gc.open('Newpaper_Articles_combined').sheet1\n",
        "\n",
        "# get_all_values gives a list of rows.\n",
        "rows = worksheet.get_all_values()\n",
        "# rows = worksheet.get_all_values()\n",
        "df = pd.DataFrame.from_records(rows[1:],columns=rows[0])"
      ],
      "execution_count": 43,
      "outputs": []
    },
    {
      "cell_type": "code",
      "metadata": {
        "colab": {
          "base_uri": "https://localhost:8080/"
        },
        "id": "wwOQmi17UO6h",
        "outputId": "4775ec3e-01c1-415a-a4ea-8de3812e782b"
      },
      "source": [
        "# x = pd.read_csv('/content/drive/MyDrive/DRP_Dr.Agha/Newpaper_Articles_combined.gsheet')\n",
        "df.columns"
      ],
      "execution_count": 44,
      "outputs": [
        {
          "output_type": "execute_result",
          "data": {
            "text/plain": [
              "Index(['', 'Link', 'Text', 'Articles', 'Tokens', 'NER_Tokens', 'Location',\n",
              "       'Organization', 'Other', 'Person', 'Taha's Label', 'Raufs Labels'],\n",
              "      dtype='object')"
            ]
          },
          "metadata": {
            "tags": []
          },
          "execution_count": 44
        }
      ]
    },
    {
      "cell_type": "code",
      "metadata": {
        "colab": {
          "base_uri": "https://localhost:8080/",
          "height": 391
        },
        "id": "e_Tby_XcSote",
        "outputId": "89c0f961-220c-4e4d-9a10-7c4935091342"
      },
      "source": [
        "# df = pd.read_csv('/content/drive/MyDrive/DRP_Dr.Agha/Newpaper_Articles_combined.csv', delimiter=',')\n",
        "df.drop(df.columns[0],axis = 1, inplace=True)\n",
        "df.head()"
      ],
      "execution_count": 45,
      "outputs": [
        {
          "output_type": "execute_result",
          "data": {
            "text/html": [
              "<div>\n",
              "<style scoped>\n",
              "    .dataframe tbody tr th:only-of-type {\n",
              "        vertical-align: middle;\n",
              "    }\n",
              "\n",
              "    .dataframe tbody tr th {\n",
              "        vertical-align: top;\n",
              "    }\n",
              "\n",
              "    .dataframe thead th {\n",
              "        text-align: right;\n",
              "    }\n",
              "</style>\n",
              "<table border=\"1\" class=\"dataframe\">\n",
              "  <thead>\n",
              "    <tr style=\"text-align: right;\">\n",
              "      <th></th>\n",
              "      <th>Link</th>\n",
              "      <th>Text</th>\n",
              "      <th>Articles</th>\n",
              "      <th>Tokens</th>\n",
              "      <th>NER_Tokens</th>\n",
              "      <th>Location</th>\n",
              "      <th>Organization</th>\n",
              "      <th>Other</th>\n",
              "      <th>Person</th>\n",
              "      <th>Taha's Label</th>\n",
              "      <th>Raufs Labels</th>\n",
              "    </tr>\n",
              "  </thead>\n",
              "  <tbody>\n",
              "    <tr>\n",
              "      <th>0</th>\n",
              "      <td>https://www.express.pk/story/2168914/1</td>\n",
              "      <td>لاہور: کالعدم ٹی ایل پی کے سربراہ سعد رضوی سے ...</td>\n",
              "      <td>&lt;newspaper.article.Article object at 0x7f363be...</td>\n",
              "      <td>['لاہور', 'کالعدم', 'ٹی', 'ایل', 'پی', 'سربراہ...</td>\n",
              "      <td>['Location', 'Organization', 'Organization', '...</td>\n",
              "      <td>22</td>\n",
              "      <td>28</td>\n",
              "      <td>356</td>\n",
              "      <td>28</td>\n",
              "      <td>0</td>\n",
              "      <td>0</td>\n",
              "    </tr>\n",
              "    <tr>\n",
              "      <th>1</th>\n",
              "      <td>https://www.express.pk/story/2168932/1</td>\n",
              "      <td>وزیراعظم عمران خان نے جہانگیر ترین گروپ کی بات...</td>\n",
              "      <td>&lt;newspaper.article.Article object at 0x7f363c9...</td>\n",
              "      <td>['وزیراعظم', 'عمران', 'خان', 'نے', 'جہانگیر', ...</td>\n",
              "      <td>['Other', 'Person', 'Other', 'Other', 'Person'...</td>\n",
              "      <td>1</td>\n",
              "      <td>3</td>\n",
              "      <td>111</td>\n",
              "      <td>7</td>\n",
              "      <td>0</td>\n",
              "      <td>0</td>\n",
              "    </tr>\n",
              "    <tr>\n",
              "      <th>2</th>\n",
              "      <td>https://www.express.pk/story/2168360/1</td>\n",
              "      <td>پاکستانی قوم دنیا کی ان پانچ بڑی اقوام میں شام...</td>\n",
              "      <td>&lt;newspaper.article.Article object at 0x7f363be...</td>\n",
              "      <td>['پاکستانی', 'قوم', 'دنیا', 'ان', 'پانچ', 'بڑی...</td>\n",
              "      <td>['Other', 'Other', 'Other', 'Other', 'Other', ...</td>\n",
              "      <td>43</td>\n",
              "      <td>59</td>\n",
              "      <td>1875</td>\n",
              "      <td>13</td>\n",
              "      <td>0</td>\n",
              "      <td>0</td>\n",
              "    </tr>\n",
              "    <tr>\n",
              "      <th>3</th>\n",
              "      <td>https://www.express.pk/story/2168771/1</td>\n",
              "      <td>اسلام آباد: قومی اسمبلی اجلاس کے دوران اپوزیشن...</td>\n",
              "      <td>&lt;newspaper.article.Article object at 0x7f363bd...</td>\n",
              "      <td>['اسلام', 'آباد', 'قومی', 'اسمبلی', 'اجلاس', '...</td>\n",
              "      <td>['Location', 'Location', 'Other', 'Other', 'Ot...</td>\n",
              "      <td>10</td>\n",
              "      <td>21</td>\n",
              "      <td>390</td>\n",
              "      <td>25</td>\n",
              "      <td>0</td>\n",
              "      <td>0</td>\n",
              "    </tr>\n",
              "    <tr>\n",
              "      <th>4</th>\n",
              "      <td>https://dailypakistan.com.pk/17-Jun-2020/1145808</td>\n",
              "      <td>سندھ حکومت تنخواہوں اور پینشن میں کتنا اضافہ ک...</td>\n",
              "      <td>&lt;newspaper.article.Article object at 0x7f363ba...</td>\n",
              "      <td>['سندھ', 'حکومت', 'تنخواہوں', 'پینشن', 'میں', ...</td>\n",
              "      <td>['Other', 'Other', 'Other', 'Other', 'Other', ...</td>\n",
              "      <td>2</td>\n",
              "      <td>5</td>\n",
              "      <td>427</td>\n",
              "      <td>2</td>\n",
              "      <td>1</td>\n",
              "      <td>1</td>\n",
              "    </tr>\n",
              "  </tbody>\n",
              "</table>\n",
              "</div>"
            ],
            "text/plain": [
              "                                               Link  ... Raufs Labels\n",
              "0            https://www.express.pk/story/2168914/1  ...            0\n",
              "1            https://www.express.pk/story/2168932/1  ...            0\n",
              "2            https://www.express.pk/story/2168360/1  ...            0\n",
              "3            https://www.express.pk/story/2168771/1  ...            0\n",
              "4  https://dailypakistan.com.pk/17-Jun-2020/1145808  ...            1\n",
              "\n",
              "[5 rows x 11 columns]"
            ]
          },
          "metadata": {
            "tags": []
          },
          "execution_count": 45
        }
      ]
    },
    {
      "cell_type": "code",
      "metadata": {
        "colab": {
          "base_uri": "https://localhost:8080/",
          "height": 391
        },
        "id": "CqhublRmERGe",
        "outputId": "59efc847-2464-4db1-9564-712728b029eb"
      },
      "source": [
        "# df.drop(df.columns[0], axis = 1, inplace = True)\n",
        "df = df.append(new_df_2)\n",
        "df.head()"
      ],
      "execution_count": null,
      "outputs": [
        {
          "output_type": "execute_result",
          "data": {
            "text/html": [
              "<div>\n",
              "<style scoped>\n",
              "    .dataframe tbody tr th:only-of-type {\n",
              "        vertical-align: middle;\n",
              "    }\n",
              "\n",
              "    .dataframe tbody tr th {\n",
              "        vertical-align: top;\n",
              "    }\n",
              "\n",
              "    .dataframe thead th {\n",
              "        text-align: right;\n",
              "    }\n",
              "</style>\n",
              "<table border=\"1\" class=\"dataframe\">\n",
              "  <thead>\n",
              "    <tr style=\"text-align: right;\">\n",
              "      <th></th>\n",
              "      <th>Link</th>\n",
              "      <th>Text</th>\n",
              "      <th>Articles</th>\n",
              "      <th>Tokens</th>\n",
              "      <th>NER_Tokens</th>\n",
              "      <th>Location</th>\n",
              "      <th>Organization</th>\n",
              "      <th>Other</th>\n",
              "      <th>Person</th>\n",
              "      <th>Taha's Label</th>\n",
              "      <th>Raufs Labels</th>\n",
              "    </tr>\n",
              "  </thead>\n",
              "  <tbody>\n",
              "    <tr>\n",
              "      <th>0</th>\n",
              "      <td>https://www.express.pk/story/2168914/1</td>\n",
              "      <td>لاہور: کالعدم ٹی ایل پی کے سربراہ سعد رضوی سے ...</td>\n",
              "      <td>&lt;newspaper.article.Article object at 0x7f363be...</td>\n",
              "      <td>['لاہور', 'کالعدم', 'ٹی', 'ایل', 'پی', 'سربراہ...</td>\n",
              "      <td>['Location', 'Organization', 'Organization', '...</td>\n",
              "      <td>22</td>\n",
              "      <td>28</td>\n",
              "      <td>356</td>\n",
              "      <td>28</td>\n",
              "      <td>0</td>\n",
              "      <td></td>\n",
              "    </tr>\n",
              "    <tr>\n",
              "      <th>1</th>\n",
              "      <td>https://www.express.pk/story/2168932/1</td>\n",
              "      <td>وزیراعظم عمران خان نے جہانگیر ترین گروپ کی بات...</td>\n",
              "      <td>&lt;newspaper.article.Article object at 0x7f363c9...</td>\n",
              "      <td>['وزیراعظم', 'عمران', 'خان', 'نے', 'جہانگیر', ...</td>\n",
              "      <td>['Other', 'Person', 'Other', 'Other', 'Person'...</td>\n",
              "      <td>1</td>\n",
              "      <td>3</td>\n",
              "      <td>111</td>\n",
              "      <td>7</td>\n",
              "      <td>0</td>\n",
              "      <td></td>\n",
              "    </tr>\n",
              "    <tr>\n",
              "      <th>2</th>\n",
              "      <td>https://www.express.pk/story/2168360/1</td>\n",
              "      <td>پاکستانی قوم دنیا کی ان پانچ بڑی اقوام میں شام...</td>\n",
              "      <td>&lt;newspaper.article.Article object at 0x7f363be...</td>\n",
              "      <td>['پاکستانی', 'قوم', 'دنیا', 'ان', 'پانچ', 'بڑی...</td>\n",
              "      <td>['Other', 'Other', 'Other', 'Other', 'Other', ...</td>\n",
              "      <td>43</td>\n",
              "      <td>59</td>\n",
              "      <td>1875</td>\n",
              "      <td>13</td>\n",
              "      <td>0</td>\n",
              "      <td></td>\n",
              "    </tr>\n",
              "    <tr>\n",
              "      <th>3</th>\n",
              "      <td>https://www.express.pk/story/2168771/1</td>\n",
              "      <td>اسلام آباد: قومی اسمبلی اجلاس کے دوران اپوزیشن...</td>\n",
              "      <td>&lt;newspaper.article.Article object at 0x7f363bd...</td>\n",
              "      <td>['اسلام', 'آباد', 'قومی', 'اسمبلی', 'اجلاس', '...</td>\n",
              "      <td>['Location', 'Location', 'Other', 'Other', 'Ot...</td>\n",
              "      <td>10</td>\n",
              "      <td>21</td>\n",
              "      <td>390</td>\n",
              "      <td>25</td>\n",
              "      <td>0</td>\n",
              "      <td></td>\n",
              "    </tr>\n",
              "    <tr>\n",
              "      <th>4</th>\n",
              "      <td>https://dailypakistan.com.pk/17-Jun-2020/1145808</td>\n",
              "      <td>سندھ حکومت تنخواہوں اور پینشن میں کتنا اضافہ ک...</td>\n",
              "      <td>&lt;newspaper.article.Article object at 0x7f363ba...</td>\n",
              "      <td>['سندھ', 'حکومت', 'تنخواہوں', 'پینشن', 'میں', ...</td>\n",
              "      <td>['Other', 'Other', 'Other', 'Other', 'Other', ...</td>\n",
              "      <td>2</td>\n",
              "      <td>5</td>\n",
              "      <td>427</td>\n",
              "      <td>2</td>\n",
              "      <td>1</td>\n",
              "      <td></td>\n",
              "    </tr>\n",
              "  </tbody>\n",
              "</table>\n",
              "</div>"
            ],
            "text/plain": [
              "                                               Link  ... Raufs Labels\n",
              "0            https://www.express.pk/story/2168914/1  ...             \n",
              "1            https://www.express.pk/story/2168932/1  ...             \n",
              "2            https://www.express.pk/story/2168360/1  ...             \n",
              "3            https://www.express.pk/story/2168771/1  ...             \n",
              "4  https://dailypakistan.com.pk/17-Jun-2020/1145808  ...             \n",
              "\n",
              "[5 rows x 11 columns]"
            ]
          },
          "metadata": {
            "tags": []
          },
          "execution_count": 63
        }
      ]
    },
    {
      "cell_type": "code",
      "metadata": {
        "id": "Fax4MlA6-N_b"
      },
      "source": [
        "df.to_csv('/content/drive/MyDrive/DRP_Dr.Agha/Newpaper_Articles_combined_new.csv')"
      ],
      "execution_count": null,
      "outputs": []
    },
    {
      "cell_type": "code",
      "metadata": {
        "id": "ir8XXmb_1CqI"
      },
      "source": [
        "features = ['Location','Organization', 'Other', 'Person']\n",
        "data = df[features]"
      ],
      "execution_count": 48,
      "outputs": []
    },
    {
      "cell_type": "code",
      "metadata": {
        "id": "bLnjaEEw2mBc"
      },
      "source": [
        "from sklearn.cluster import KMeans\n",
        "kmeans = KMeans(n_clusters=2, random_state=0).fit(data)\n",
        "lbls = kmeans.labels_"
      ],
      "execution_count": 70,
      "outputs": []
    },
    {
      "cell_type": "code",
      "metadata": {
        "id": "evnZNQ51Xb56"
      },
      "source": [
        "\n",
        "labels = df[(list(df.columns))[-2]]\n",
        "labels = [int(labels[i]) for i in range(len(labels))]"
      ],
      "execution_count": 52,
      "outputs": []
    },
    {
      "cell_type": "code",
      "metadata": {
        "id": "dRvxa_OcXbK8",
        "colab": {
          "base_uri": "https://localhost:8080/"
        },
        "outputId": "1aeb371e-b80f-48ab-ee59-6eebd5ee0b57"
      },
      "source": [
        "from sklearn.metrics import accuracy_score\n",
        "acc = accuracy_score(labels,lbls)\n",
        "acc"
      ],
      "execution_count": 72,
      "outputs": [
        {
          "output_type": "execute_result",
          "data": {
            "text/plain": [
              "0.64"
            ]
          },
          "metadata": {
            "tags": []
          },
          "execution_count": 72
        }
      ]
    },
    {
      "cell_type": "code",
      "metadata": {
        "id": "X3YQJ-LKG2S3"
      },
      "source": [
        "from sklearn.model_selection import train_test_split\n",
        "from sklearn.naive_bayes import GaussianNB\n",
        "from sklearn.linear_model import LogisticRegression\n",
        "from sklearn.tree import DecisionTreeClassifier\n",
        "\n",
        "X_train, X_test, y_train, y_test = train_test_split(data, labels, test_size=0.4, random_state=0)"
      ],
      "execution_count": 85,
      "outputs": []
    },
    {
      "cell_type": "code",
      "metadata": {
        "colab": {
          "base_uri": "https://localhost:8080/"
        },
        "id": "I-n9ZsClKVxe",
        "outputId": "2ce1f7fe-b312-4b35-d636-97e697b944b6"
      },
      "source": [
        "clf_dt = DecisionTreeClassifier().fit(X_train,y_train)\n",
        "pred = clf_dt.predict(X_test[:-1])\n",
        "acc = accuracy_score(y_test[:-1],pred)\n",
        "acc"
      ],
      "execution_count": 107,
      "outputs": [
        {
          "output_type": "execute_result",
          "data": {
            "text/plain": [
              "0.6666666666666666"
            ]
          },
          "metadata": {
            "tags": []
          },
          "execution_count": 107
        }
      ]
    },
    {
      "cell_type": "code",
      "metadata": {
        "colab": {
          "base_uri": "https://localhost:8080/"
        },
        "id": "oPhL6yo1Gv3o",
        "outputId": "9063b36e-1550-460d-f3f8-583f3c636c43"
      },
      "source": [
        "clf = LogisticRegression(random_state=0).fit(X_train, y_train)\n",
        "pred = clf.predict(X_test[:-1])\n",
        "\n",
        "acc = accuracy_score(y_test[:-1],pred)\n",
        "acc"
      ],
      "execution_count": 83,
      "outputs": [
        {
          "output_type": "execute_result",
          "data": {
            "text/plain": [
              "0.5555555555555556"
            ]
          },
          "metadata": {
            "tags": []
          },
          "execution_count": 83
        }
      ]
    },
    {
      "cell_type": "code",
      "metadata": {
        "colab": {
          "base_uri": "https://localhost:8080/"
        },
        "id": "X-Y2mGaaGH9n",
        "outputId": "c5bd8aa5-4471-471d-91c4-30b07a2168fc"
      },
      "source": [
        "\n",
        "gnb = GaussianNB()\n",
        "y_pred = gnb.fit(X_train, y_train).predict(X_test[:-1])\n",
        "acc = accuracy_score(y_test[:-1],y_pred)\n",
        "acc"
      ],
      "execution_count": 84,
      "outputs": [
        {
          "output_type": "execute_result",
          "data": {
            "text/plain": [
              "0.4444444444444444"
            ]
          },
          "metadata": {
            "tags": []
          },
          "execution_count": 84
        }
      ]
    },
    {
      "cell_type": "code",
      "metadata": {
        "id": "Gri2D-oSGH0X"
      },
      "source": [
        ""
      ],
      "execution_count": null,
      "outputs": []
    },
    {
      "cell_type": "markdown",
      "metadata": {
        "id": "01cl23KkFKFn"
      },
      "source": [
        "Testing Pipeline"
      ]
    },
    {
      "cell_type": "code",
      "metadata": {
        "id": "7qr4CSgZDWI_"
      },
      "source": [
        "\n",
        "def transforming_test_art(url):\n",
        "  art = read_url(url)\n",
        "  art.download()\n",
        "  art.parse()\n",
        "  art.nlp()\n",
        "  temp_text = art.text\n",
        "\n",
        "  split_tokens = [removing_punct(temp_text)]\n",
        "  final_tokens = [removing_stopwords(i) for i in split_tokens]\n",
        "\n",
        "\n",
        "  ner_tokens = []\n",
        "  ner_list = list(ner.keys())\n",
        "  for toks in final_tokens:\n",
        "    ner_toks = []\n",
        "    for i in toks:\n",
        "      if (i in ner_list):\n",
        "        ner_toks.append(ner[i])\n",
        "      else:\n",
        "        ner_toks.append(\"Other\")\n",
        "    ner_tokens.append(ner_toks)\n",
        "\n",
        "  counts = [None,None,None,None]\n",
        "  ls = ['Location', 'Organization', 'Other', 'Person']\n",
        "  for toks in ner_tokens:\n",
        "    for tag in range(len(ls)):\n",
        "      indices = [i for i, x in enumerate(toks) if x == ls[tag]]\n",
        "      counts[tag] = len(indices)\n",
        "  return counts"
      ],
      "execution_count": 90,
      "outputs": []
    },
    {
      "cell_type": "code",
      "metadata": {
        "id": "6qwcwQlULUZ4"
      },
      "source": [
        "cnts = transforming_test_art('https://www.express.pk/story/2175840/1/') "
      ],
      "execution_count": null,
      "outputs": []
    },
    {
      "cell_type": "code",
      "metadata": {
        "id": "RRTyPY71DV5e"
      },
      "source": [
        "# counts_test = X_test[-1\n",
        "cnts = X_test.loc[(list(X_test.index))[-3:]]\n",
        "# cnts = [[i] for i in list(cnts)]\n",
        "# cnts"
      ],
      "execution_count": 119,
      "outputs": []
    },
    {
      "cell_type": "code",
      "metadata": {
        "colab": {
          "base_uri": "https://localhost:8080/"
        },
        "id": "zL0s-MI7DVmQ",
        "outputId": "71df3728-6ce0-45b5-f086-631da75be06b"
      },
      "source": [
        "test_pred = clf_dt.predict(cnts)\n",
        "test_pred\n"
      ],
      "execution_count": 121,
      "outputs": [
        {
          "output_type": "execute_result",
          "data": {
            "text/plain": [
              "array([0, 1, 1])"
            ]
          },
          "metadata": {
            "tags": []
          },
          "execution_count": 121
        }
      ]
    },
    {
      "cell_type": "markdown",
      "metadata": {
        "id": "s0qda-A3JV2x"
      },
      "source": [
        "### UrduHack"
      ]
    },
    {
      "cell_type": "code",
      "metadata": {
        "id": "l-lg2VSsJYlc"
      },
      "source": [
        "!pip install Urduhack[tf]"
      ],
      "execution_count": null,
      "outputs": []
    },
    {
      "cell_type": "code",
      "metadata": {
        "colab": {
          "base_uri": "https://localhost:8080/"
        },
        "id": "P_7HpX17Xajq",
        "outputId": "6b73be99-9844-4711-d417-b69fe910707d"
      },
      "source": [
        "import urduhack\n",
        "urduhack.download()"
      ],
      "execution_count": null,
      "outputs": [
        {
          "output_type": "stream",
          "text": [
            "Downloading data from https://github.com/urduhack/resources/releases/download/word_tokenizer/word_tokenizer.zip\n",
            "36790272/36788015 [==============================] - 0s 0us/step\n",
            "Downloading data from https://github.com/urduhack/resources/releases/download/pos_tagger/pos_tagger.zip\n",
            "2768896/2761433 [==============================] - 0s 0us/step\n",
            "Downloading data from https://github.com/urduhack/resources/releases/download/ner/ner.zip\n",
            "11730944/11723346 [==============================] - 0s 0us/step\n",
            "Downloading data from https://github.com/urduhack/resources/releases/download/lemmatizer/ur_lemma_lookup.zip\n",
            "90112/89078 [==============================] - 0s 0us/step\n"
          ],
          "name": "stdout"
        }
      ]
    },
    {
      "cell_type": "code",
      "metadata": {
        "colab": {
          "base_uri": "https://localhost:8080/",
          "height": 462
        },
        "id": "DSd0mlaDXaYF",
        "outputId": "91eeb2d9-ee69-4883-c675-ea5fcb0ed4aa"
      },
      "source": [
        "from urduhack import Pipeline\n",
        "nlp = Pipeline()\n",
        "text = \"\"\"\n",
        "اسلام آباد: این سی او سی نے بین الصوبائی ٹرانسپورٹ ہفتے میں دو دن بند رکھنے کا فیصلہ کرلیا۔\n",
        "\n",
        "این سی او سی نے جانب سے جاری بیان میں کہا گیاہے کہ ملک بھر میں بین الصوبائی پبلک ٹرانسپورٹ ہفتے میں دو دن بند رکھنے کا فیصلہ کیا ہے، ٹرانسپورٹ ہفتہ اتوار بند رکھی جائے گی۔\n",
        "\n",
        "اس خبرکوبھی پڑھیں: سندھ حکومت کی وفاق سے بین الصوبائی ٹرانسپورٹ بند کرنے کی سفارش\n",
        "\n",
        "این سی او سی کے مطابق گڈز ٹرانسپورٹ سروس اور ایمرجنسی ٹرانسپورٹ سروس جاری رہے گی، 70 فیصد مسافروں کے ریلوے سروس ہفتے کے 7 روز جاری رہے گی، بین الصوبائی ٹرانسپورٹ سروس 10 اپریل سے 25 اپریل تک ہفتہ اور اتوار کو بند رہے گی، تاہم ٹرانسپورٹ سے متعلق فیصلے کے لیے نظرثانی اجلاس 20 اپریل کو ہوگا۔\n",
        "\n",
        "واضح رہے کہ دو روز قبل وزیراعلیٰ سندھ نے ایک اجلاس کی صدارت کرتےہوئے وفاق سے مطالبہ کیا تھا کہ وہ لاک ڈاؤن کے حق میں نہیں لیکن وہ صرف بین الصوبائی ٹرانسپورٹ پر پابندی عائد کرنا چاہتے ہیں تاکہ لوگ ایک صوبے سے دوسرے صوبے میں داخل نہ ہوسکیں۔\n",
        "\"\"\"\n",
        "doc = nlp(text)\n",
        "\n",
        "for sentence in doc.sentences:\n",
        "    print(sentence.text)\n",
        "    for word in sentence.words:\n",
        "        print(f\"{word.text}\\t{word.pos}\")\n",
        "\n",
        "    for token in sentence.tokens:\n",
        "        print(f\"{token.text}\\t{token.ner}\")"
      ],
      "execution_count": null,
      "outputs": [
        {
          "output_type": "stream",
          "text": [
            "/usr/local/lib/python3.7/dist-packages/tensorflow/python/autograph/impl/api.py:390: UserWarning: CRF Decoding does not work with KerasTensors in TF2.4. The bug has since been fixed in tensorflow/tensorflow##45534\n",
            "  return py_builtins.overload_of(f)(*args)\n"
          ],
          "name": "stderr"
        },
        {
          "output_type": "error",
          "ename": "ValueError",
          "evalue": "ignored",
          "traceback": [
            "\u001b[0;31m---------------------------------------------------------------------------\u001b[0m",
            "\u001b[0;31mValueError\u001b[0m                                Traceback (most recent call last)",
            "\u001b[0;32m<ipython-input-30-d48dc6e210b4>\u001b[0m in \u001b[0;36m<module>\u001b[0;34m()\u001b[0m\n\u001b[1;32m     12\u001b[0m \u001b[0mواضح\u001b[0m \u001b[0mرہے\u001b[0m \u001b[0mکہ\u001b[0m \u001b[0mدو\u001b[0m \u001b[0mروز\u001b[0m \u001b[0mقبل\u001b[0m \u001b[0mوزیراعلی\u001b[0m\u001b[0;31mٰ\u001b[0m \u001b[0mسندھ\u001b[0m \u001b[0mنے\u001b[0m \u001b[0mایک\u001b[0m \u001b[0mاجلاس\u001b[0m \u001b[0mکی\u001b[0m \u001b[0mصدارت\u001b[0m \u001b[0mکرتےہوئے\u001b[0m \u001b[0mوفاق\u001b[0m \u001b[0mسے\u001b[0m \u001b[0mمطالبہ\u001b[0m \u001b[0mکیا\u001b[0m \u001b[0mتھا\u001b[0m \u001b[0mکہ\u001b[0m \u001b[0mوہ\u001b[0m \u001b[0mلاک\u001b[0m \u001b[0mڈاؤن\u001b[0m \u001b[0mکے\u001b[0m \u001b[0mحق\u001b[0m \u001b[0mمیں\u001b[0m \u001b[0mنہیں\u001b[0m \u001b[0mلیکن\u001b[0m \u001b[0mوہ\u001b[0m \u001b[0mصرف\u001b[0m \u001b[0mبین\u001b[0m \u001b[0mالصوبائی\u001b[0m \u001b[0mٹرانسپورٹ\u001b[0m \u001b[0mپر\u001b[0m \u001b[0mپابندی\u001b[0m \u001b[0mعائد\u001b[0m \u001b[0mکرنا\u001b[0m \u001b[0mچاہتے\u001b[0m \u001b[0mہیں\u001b[0m \u001b[0mتاکہ\u001b[0m \u001b[0mلوگ\u001b[0m \u001b[0mایک\u001b[0m \u001b[0mصوبے\u001b[0m \u001b[0mسے\u001b[0m \u001b[0mدوسرے\u001b[0m \u001b[0mصوبے\u001b[0m \u001b[0mمیں\u001b[0m \u001b[0mداخل\u001b[0m \u001b[0mنہ\u001b[0m \u001b[0mہوسکیں\u001b[0m\u001b[0;31m۔\u001b[0m\u001b[0;34m\u001b[0m\u001b[0;34m\u001b[0m\u001b[0m\n\u001b[1;32m     13\u001b[0m \"\"\"\n\u001b[0;32m---> 14\u001b[0;31m \u001b[0mdoc\u001b[0m \u001b[0;34m=\u001b[0m \u001b[0mnlp\u001b[0m\u001b[0;34m(\u001b[0m\u001b[0mtext\u001b[0m\u001b[0;34m)\u001b[0m\u001b[0;34m\u001b[0m\u001b[0;34m\u001b[0m\u001b[0m\n\u001b[0m\u001b[1;32m     15\u001b[0m \u001b[0;34m\u001b[0m\u001b[0m\n\u001b[1;32m     16\u001b[0m \u001b[0;32mfor\u001b[0m \u001b[0msentence\u001b[0m \u001b[0;32min\u001b[0m \u001b[0mdoc\u001b[0m\u001b[0;34m.\u001b[0m\u001b[0msentences\u001b[0m\u001b[0;34m:\u001b[0m\u001b[0;34m\u001b[0m\u001b[0;34m\u001b[0m\u001b[0m\n",
            "\u001b[0;32m/usr/local/lib/python3.7/dist-packages/urduhack/pipeline/core.py\u001b[0m in \u001b[0;36m__call__\u001b[0;34m(self, doc)\u001b[0m\n\u001b[1;32m     50\u001b[0m     \u001b[0;32mdef\u001b[0m \u001b[0m__call__\u001b[0m\u001b[0;34m(\u001b[0m\u001b[0mself\u001b[0m\u001b[0;34m,\u001b[0m \u001b[0mdoc\u001b[0m\u001b[0;34m)\u001b[0m\u001b[0;34m:\u001b[0m\u001b[0;34m\u001b[0m\u001b[0;34m\u001b[0m\u001b[0m\n\u001b[1;32m     51\u001b[0m         \u001b[0;32massert\u001b[0m \u001b[0many\u001b[0m\u001b[0;34m(\u001b[0m\u001b[0;34m[\u001b[0m\u001b[0misinstance\u001b[0m\u001b[0;34m(\u001b[0m\u001b[0mdoc\u001b[0m\u001b[0;34m,\u001b[0m \u001b[0mstr\u001b[0m\u001b[0;34m)\u001b[0m\u001b[0;34m,\u001b[0m \u001b[0misinstance\u001b[0m\u001b[0;34m(\u001b[0m\u001b[0mdoc\u001b[0m\u001b[0;34m,\u001b[0m \u001b[0mlist\u001b[0m\u001b[0;34m)\u001b[0m\u001b[0;34m]\u001b[0m\u001b[0;34m)\u001b[0m\u001b[0;34m,\u001b[0m \u001b[0;34m'input should be either str or list'\u001b[0m\u001b[0;34m\u001b[0m\u001b[0;34m\u001b[0m\u001b[0m\n\u001b[0;32m---> 52\u001b[0;31m         \u001b[0mdoc\u001b[0m \u001b[0;34m=\u001b[0m \u001b[0mself\u001b[0m\u001b[0;34m.\u001b[0m\u001b[0mparse\u001b[0m\u001b[0;34m(\u001b[0m\u001b[0mdoc\u001b[0m\u001b[0;34m)\u001b[0m\u001b[0;34m\u001b[0m\u001b[0;34m\u001b[0m\u001b[0m\n\u001b[0m\u001b[1;32m     53\u001b[0m         \u001b[0;32mreturn\u001b[0m \u001b[0mdoc\u001b[0m\u001b[0;34m\u001b[0m\u001b[0;34m\u001b[0m\u001b[0m\n",
            "\u001b[0;32m/usr/local/lib/python3.7/dist-packages/urduhack/pipeline/core.py\u001b[0m in \u001b[0;36mparse\u001b[0;34m(self, doc)\u001b[0m\n\u001b[1;32m     45\u001b[0m         \u001b[0;32mfor\u001b[0m \u001b[0mparser_name\u001b[0m \u001b[0;32min\u001b[0m \u001b[0mPIPELINE_NAMES\u001b[0m\u001b[0;34m:\u001b[0m\u001b[0;34m\u001b[0m\u001b[0;34m\u001b[0m\u001b[0m\n\u001b[1;32m     46\u001b[0m             \u001b[0;32mif\u001b[0m \u001b[0mself\u001b[0m\u001b[0;34m.\u001b[0m\u001b[0mparsers\u001b[0m\u001b[0;34m.\u001b[0m\u001b[0mget\u001b[0m\u001b[0;34m(\u001b[0m\u001b[0mparser_name\u001b[0m\u001b[0;34m)\u001b[0m\u001b[0;34m:\u001b[0m\u001b[0;34m\u001b[0m\u001b[0;34m\u001b[0m\u001b[0m\n\u001b[0;32m---> 47\u001b[0;31m                 \u001b[0mdoc\u001b[0m \u001b[0;34m=\u001b[0m \u001b[0mself\u001b[0m\u001b[0;34m.\u001b[0m\u001b[0mparsers\u001b[0m\u001b[0;34m[\u001b[0m\u001b[0mparser_name\u001b[0m\u001b[0;34m]\u001b[0m\u001b[0;34m.\u001b[0m\u001b[0mparse\u001b[0m\u001b[0;34m(\u001b[0m\u001b[0mdoc\u001b[0m\u001b[0;34m)\u001b[0m\u001b[0;34m\u001b[0m\u001b[0;34m\u001b[0m\u001b[0m\n\u001b[0m\u001b[1;32m     48\u001b[0m         \u001b[0;32mreturn\u001b[0m \u001b[0mdoc\u001b[0m\u001b[0;34m\u001b[0m\u001b[0;34m\u001b[0m\u001b[0m\n\u001b[1;32m     49\u001b[0m \u001b[0;34m\u001b[0m\u001b[0m\n",
            "\u001b[0;32m/usr/local/lib/python3.7/dist-packages/urduhack/pipeline/parsers/pos_tagger.py\u001b[0m in \u001b[0;36mparse\u001b[0;34m(self, document)\u001b[0m\n\u001b[1;32m     18\u001b[0m \u001b[0;34m\u001b[0m\u001b[0m\n\u001b[1;32m     19\u001b[0m         \u001b[0;32mfor\u001b[0m \u001b[0msentence\u001b[0m \u001b[0;32min\u001b[0m \u001b[0mdocument\u001b[0m\u001b[0;34m.\u001b[0m\u001b[0msentences\u001b[0m\u001b[0;34m:\u001b[0m\u001b[0;34m\u001b[0m\u001b[0;34m\u001b[0m\u001b[0m\n\u001b[0;32m---> 20\u001b[0;31m             \u001b[0mtags\u001b[0m \u001b[0;34m=\u001b[0m \u001b[0mpredict_tags\u001b[0m\u001b[0;34m(\u001b[0m\u001b[0msentence\u001b[0m\u001b[0;34m.\u001b[0m\u001b[0mtext\u001b[0m\u001b[0;34m)\u001b[0m\u001b[0;34m\u001b[0m\u001b[0;34m\u001b[0m\u001b[0m\n\u001b[0m\u001b[1;32m     21\u001b[0m \u001b[0;34m\u001b[0m\u001b[0m\n\u001b[1;32m     22\u001b[0m             \u001b[0;32massert\u001b[0m \u001b[0mlen\u001b[0m\u001b[0;34m(\u001b[0m\u001b[0mtags\u001b[0m\u001b[0;34m)\u001b[0m \u001b[0;34m==\u001b[0m \u001b[0mlen\u001b[0m\u001b[0;34m(\u001b[0m\u001b[0msentence\u001b[0m\u001b[0;34m.\u001b[0m\u001b[0mwords\u001b[0m\u001b[0;34m)\u001b[0m\u001b[0;34m,\u001b[0m \u001b[0;34m\" Error in post tags\"\u001b[0m\u001b[0;34m\u001b[0m\u001b[0;34m\u001b[0m\u001b[0m\n",
            "\u001b[0;32m/usr/local/lib/python3.7/dist-packages/urduhack/models/pos_tagger/predict.py\u001b[0m in \u001b[0;36mpredict_tags\u001b[0;34m(text)\u001b[0m\n\u001b[1;32m     56\u001b[0m     \u001b[0;32mif\u001b[0m \u001b[0m_POS_TAGGER_MODEL\u001b[0m \u001b[0;32mis\u001b[0m \u001b[0;32mNone\u001b[0m\u001b[0;34m:\u001b[0m\u001b[0;34m\u001b[0m\u001b[0;34m\u001b[0m\u001b[0m\n\u001b[1;32m     57\u001b[0m         _POS_TAGGER_MODEL, _WORD2IDX, _IDX2TAG = _load_metadata(POS_TAGGER_WEIGHTS_PATH,\n\u001b[0;32m---> 58\u001b[0;31m                                                                 POS_WORD2IDX_PATH, POS_TAG2IDX_PATH)\n\u001b[0m\u001b[1;32m     59\u001b[0m \u001b[0;34m\u001b[0m\u001b[0m\n\u001b[1;32m     60\u001b[0m     \u001b[0mtokens\u001b[0m \u001b[0;34m=\u001b[0m \u001b[0mtext\u001b[0m\u001b[0;34m.\u001b[0m\u001b[0msplit\u001b[0m\u001b[0;34m(\u001b[0m\u001b[0;34m)\u001b[0m\u001b[0;34m\u001b[0m\u001b[0;34m\u001b[0m\u001b[0m\n",
            "\u001b[0;32m/usr/local/lib/python3.7/dist-packages/urduhack/models/pos_tagger/predict.py\u001b[0m in \u001b[0;36m_load_metadata\u001b[0;34m(model_path, word2idx_path, tag2idx_path, max_len)\u001b[0m\n\u001b[1;32m     37\u001b[0m \u001b[0;34m\u001b[0m\u001b[0m\n\u001b[1;32m     38\u001b[0m     \u001b[0mmodel_arch\u001b[0m \u001b[0;34m=\u001b[0m \u001b[0m_bi_lstm_crf_model\u001b[0m\u001b[0;34m(\u001b[0m\u001b[0mn_words\u001b[0m\u001b[0;34m,\u001b[0m \u001b[0mn_tags\u001b[0m\u001b[0;34m,\u001b[0m \u001b[0mmax_len\u001b[0m\u001b[0;34m)\u001b[0m\u001b[0;34m\u001b[0m\u001b[0;34m\u001b[0m\u001b[0m\n\u001b[0;32m---> 39\u001b[0;31m     \u001b[0mmodel_arch\u001b[0m\u001b[0;34m.\u001b[0m\u001b[0mload_weights\u001b[0m\u001b[0;34m(\u001b[0m\u001b[0mmodel_path\u001b[0m\u001b[0;34m)\u001b[0m\u001b[0;34m\u001b[0m\u001b[0;34m\u001b[0m\u001b[0m\n\u001b[0m\u001b[1;32m     40\u001b[0m \u001b[0;34m\u001b[0m\u001b[0m\n\u001b[1;32m     41\u001b[0m     \u001b[0;32mreturn\u001b[0m \u001b[0mmodel_arch\u001b[0m\u001b[0;34m,\u001b[0m \u001b[0mw2i\u001b[0m\u001b[0;34m,\u001b[0m \u001b[0mi2t\u001b[0m\u001b[0;34m\u001b[0m\u001b[0;34m\u001b[0m\u001b[0m\n",
            "\u001b[0;32m/usr/local/lib/python3.7/dist-packages/tensorflow/python/keras/engine/training.py\u001b[0m in \u001b[0;36mload_weights\u001b[0;34m(self, filepath, by_name, skip_mismatch, options)\u001b[0m\n\u001b[1;32m   2232\u001b[0m             f, self.layers, skip_mismatch=skip_mismatch)\n\u001b[1;32m   2233\u001b[0m       \u001b[0;32melse\u001b[0m\u001b[0;34m:\u001b[0m\u001b[0;34m\u001b[0m\u001b[0;34m\u001b[0m\u001b[0m\n\u001b[0;32m-> 2234\u001b[0;31m         \u001b[0mhdf5_format\u001b[0m\u001b[0;34m.\u001b[0m\u001b[0mload_weights_from_hdf5_group\u001b[0m\u001b[0;34m(\u001b[0m\u001b[0mf\u001b[0m\u001b[0;34m,\u001b[0m \u001b[0mself\u001b[0m\u001b[0;34m.\u001b[0m\u001b[0mlayers\u001b[0m\u001b[0;34m)\u001b[0m\u001b[0;34m\u001b[0m\u001b[0;34m\u001b[0m\u001b[0m\n\u001b[0m\u001b[1;32m   2235\u001b[0m \u001b[0;34m\u001b[0m\u001b[0m\n\u001b[1;32m   2236\u001b[0m   \u001b[0;32mdef\u001b[0m \u001b[0m_updated_config\u001b[0m\u001b[0;34m(\u001b[0m\u001b[0mself\u001b[0m\u001b[0;34m)\u001b[0m\u001b[0;34m:\u001b[0m\u001b[0;34m\u001b[0m\u001b[0;34m\u001b[0m\u001b[0m\n",
            "\u001b[0;32m/usr/local/lib/python3.7/dist-packages/tensorflow/python/keras/saving/hdf5_format.py\u001b[0m in \u001b[0;36mload_weights_from_hdf5_group\u001b[0;34m(f, layers)\u001b[0m\n\u001b[1;32m    706\u001b[0m                        \u001b[0mstr\u001b[0m\u001b[0;34m(\u001b[0m\u001b[0mlen\u001b[0m\u001b[0;34m(\u001b[0m\u001b[0msymbolic_weights\u001b[0m\u001b[0;34m)\u001b[0m\u001b[0;34m)\u001b[0m \u001b[0;34m+\u001b[0m\u001b[0;34m\u001b[0m\u001b[0;34m\u001b[0m\u001b[0m\n\u001b[1;32m    707\u001b[0m                        \u001b[0;34m' weights, but the saved weights have '\u001b[0m \u001b[0;34m+\u001b[0m\u001b[0;34m\u001b[0m\u001b[0;34m\u001b[0m\u001b[0m\n\u001b[0;32m--> 708\u001b[0;31m                        str(len(weight_values)) + ' elements.')\n\u001b[0m\u001b[1;32m    709\u001b[0m     \u001b[0mweight_value_tuples\u001b[0m \u001b[0;34m+=\u001b[0m \u001b[0mzip\u001b[0m\u001b[0;34m(\u001b[0m\u001b[0msymbolic_weights\u001b[0m\u001b[0;34m,\u001b[0m \u001b[0mweight_values\u001b[0m\u001b[0;34m)\u001b[0m\u001b[0;34m\u001b[0m\u001b[0;34m\u001b[0m\u001b[0m\n\u001b[1;32m    710\u001b[0m   \u001b[0mK\u001b[0m\u001b[0;34m.\u001b[0m\u001b[0mbatch_set_value\u001b[0m\u001b[0;34m(\u001b[0m\u001b[0mweight_value_tuples\u001b[0m\u001b[0;34m)\u001b[0m\u001b[0;34m\u001b[0m\u001b[0;34m\u001b[0m\u001b[0m\n",
            "\u001b[0;31mValueError\u001b[0m: Layer #3 (named \"crf_3\" in the current model) was found to correspond to layer crf in the save file. However the new layer crf_3 expects 5 weights, but the saved weights have 1 elements."
          ]
        }
      ]
    },
    {
      "cell_type": "code",
      "metadata": {
        "colab": {
          "base_uri": "https://localhost:8080/",
          "height": 103
        },
        "id": "tOds2jANXaHT",
        "outputId": "e7278fac-6cbe-4a64-bc38-6f59a11f2a8b"
      },
      "source": [
        "df['Text'][0]"
      ],
      "execution_count": null,
      "outputs": [
        {
          "output_type": "execute_result",
          "data": {
            "application/vnd.google.colaboratory.intrinsic+json": {
              "type": "string"
            },
            "text/plain": [
              "'اسلام آباد: این سی او سی نے بین الصوبائی ٹرانسپورٹ ہفتے میں دو دن بند رکھنے کا فیصلہ کرلیا۔\\n\\nاین سی او سی نے جانب سے جاری بیان میں کہا گیاہے کہ ملک بھر میں بین الصوبائی پبلک ٹرانسپورٹ ہفتے میں دو دن بند رکھنے کا فیصلہ کیا ہے، ٹرانسپورٹ ہفتہ اتوار بند رکھی جائے گی۔\\n\\nاس خبرکوبھی پڑھیں: سندھ حکومت کی وفاق سے بین الصوبائی ٹرانسپورٹ بند کرنے کی سفارش\\n\\nاین سی او سی کے مطابق گڈز ٹرانسپورٹ سروس اور ایمرجنسی ٹرانسپورٹ سروس جاری رہے گی، 70 فیصد مسافروں کے ریلوے سروس ہفتے کے 7 روز جاری رہے گی، بین الصوبائی ٹرانسپورٹ سروس 10 اپریل سے 25 اپریل تک ہفتہ اور اتوار کو بند رہے گی، تاہم ٹرانسپورٹ سے متعلق فیصلے کے لیے نظرثانی اجلاس 20 اپریل کو ہوگا۔\\n\\nواضح رہے کہ دو روز قبل وزیراعلیٰ سندھ نے ایک اجلاس کی صدارت کرتےہوئے وفاق سے مطالبہ کیا تھا کہ وہ لاک ڈاؤن کے حق میں نہیں لیکن وہ صرف بین الصوبائی ٹرانسپورٹ پر پابندی عائد کرنا چاہتے ہیں تاکہ لوگ ایک صوبے سے دوسرے صوبے میں داخل نہ ہوسکیں۔'"
            ]
          },
          "metadata": {
            "tags": []
          },
          "execution_count": 28
        }
      ]
    },
    {
      "cell_type": "markdown",
      "metadata": {
        "id": "FNB79AGtZz2e"
      },
      "source": [
        "#### Bi / Tri Grams"
      ]
    },
    {
      "cell_type": "code",
      "metadata": {
        "id": "ClPP4j7iZt06"
      },
      "source": [
        "bi_grams = list(nltk.bigrams(tokens))\n",
        "tri_grams = list(nltk.trigrams(tokens))\n",
        "print(bi_grams[:5])\n",
        "tri_grams[:5]"
      ],
      "execution_count": null,
      "outputs": []
    },
    {
      "cell_type": "code",
      "metadata": {
        "id": "Pq4SzauEr8jY"
      },
      "source": [
        "('اسلام', 'آباد') in bi_grams"
      ],
      "execution_count": null,
      "outputs": []
    },
    {
      "cell_type": "code",
      "metadata": {
        "id": "4vyBcU2BX_8u"
      },
      "source": [
        "from collections import Counter\n",
        "uni_gram_counts = Counter(tokens)\n",
        "bi_gram_counts = Counter(bi_grams)\n"
      ],
      "execution_count": null,
      "outputs": []
    },
    {
      "cell_type": "code",
      "metadata": {
        "id": "SfIvF6tXZDjx"
      },
      "source": [
        "\n",
        "prob_bigram = {}\n",
        "print(uni_gram_counts['آباد'])\n",
        "total_bigrams = len(bi_grams)\n",
        "for bigrm in bi_grams:\n",
        "  cnt = bi_gram_counts[bigrm]\n",
        "  prob_bigram[bigrm] = cnt/total_bigrams\n",
        "\n",
        "for k,v in prob_bigram.items():\n",
        "  if v > 0.01:\n",
        "    print(k,\" \",v)"
      ],
      "execution_count": null,
      "outputs": []
    },
    {
      "cell_type": "code",
      "metadata": {
        "id": "F8ghsijmcoLX"
      },
      "source": [
        "prob_trigram = {}\n",
        "print(uni_gram_counts['آباد'])\n",
        "total_trigrams = len(tri_grams)\n",
        "for trigrm in tri_grams:\n",
        "  cnt = bi_gram_counts[trigrm]\n",
        "  prob_trigram[trigrm] = cnt/total_trigrams\n",
        "\n",
        "for k,v in prob_trigram.items():\n",
        "  if v > 0.01:\n",
        "    print(k,\" \",v)"
      ],
      "execution_count": null,
      "outputs": []
    },
    {
      "cell_type": "code",
      "metadata": {
        "id": "OmKS0QJVVbLT"
      },
      "source": [
        "\n",
        "#To extract title \n",
        "print(\"Article's Title:\") \n",
        "print(toi_article.title) \n",
        "print(\"\\n\") \n",
        "  \n",
        "#To extract text \n",
        "print(\"Article's Text:\") \n",
        "print(toi_article.text) \n",
        "print(\"\\n\") \n",
        "  \n",
        "#To extract summary \n",
        "print(\"Article's Summary:\") \n",
        "print(toi_article.summary) \n",
        "print(\"\\n\") \n",
        "  \n",
        "#To extract keywords \n",
        "print(\"Article's Keywords:\") \n",
        "print(toi_article.keywords) "
      ],
      "execution_count": null,
      "outputs": []
    },
    {
      "cell_type": "markdown",
      "metadata": {
        "id": "a9QRrZnzFb46"
      },
      "source": [
        "### Trying SpaCy"
      ]
    },
    {
      "cell_type": "code",
      "metadata": {
        "id": "cA9dtEsD_ejj"
      },
      "source": [
        "!pip install spacy"
      ],
      "execution_count": null,
      "outputs": []
    },
    {
      "cell_type": "code",
      "metadata": {
        "id": "hV9z5hUm_bl4"
      },
      "source": [
        "import spacy\n",
        "\n",
        "nlp = spacy.blank('ur')\n"
      ],
      "execution_count": null,
      "outputs": []
    },
    {
      "cell_type": "code",
      "metadata": {
        "id": "kD1fu7DE_nyo"
      },
      "source": [
        "doc = nlp(toi_article.text)"
      ],
      "execution_count": null,
      "outputs": []
    },
    {
      "cell_type": "code",
      "metadata": {
        "id": "dbxfSm-fCeOh"
      },
      "source": [
        "doc"
      ],
      "execution_count": null,
      "outputs": []
    },
    {
      "cell_type": "code",
      "metadata": {
        "id": "D6udQlJxFFzh"
      },
      "source": [
        "tokens = doc.text.split(\" \")"
      ],
      "execution_count": null,
      "outputs": []
    },
    {
      "cell_type": "code",
      "metadata": {
        "id": "_2AARHdC4Wkj"
      },
      "source": [
        "tokens[:5]"
      ],
      "execution_count": null,
      "outputs": []
    },
    {
      "cell_type": "code",
      "metadata": {
        "id": "Y24nluOFCkIm"
      },
      "source": [
        "lexeme = doc.vocab[doc[0].text]\n",
        "print(lexeme.text, lexeme.orth, lexeme.shape_, lexeme.prefix_, lexeme.suffix_,\n",
        "            lexeme.is_alpha, lexeme.is_digit, lexeme.is_title, lexeme.lang_)"
      ],
      "execution_count": null,
      "outputs": []
    },
    {
      "cell_type": "code",
      "metadata": {
        "id": "dn8xwT1ZZonw"
      },
      "source": [
        "toi_article.authors"
      ],
      "execution_count": null,
      "outputs": []
    },
    {
      "cell_type": "code",
      "metadata": {
        "id": "FUkyZ8nbcAFQ"
      },
      "source": [
        "toi_article.publish_date\n",
        "# toi_article.publish_d"
      ],
      "execution_count": null,
      "outputs": []
    },
    {
      "cell_type": "code",
      "metadata": {
        "id": "WSh3ZQUDh6X1"
      },
      "source": [
        ""
      ],
      "execution_count": null,
      "outputs": []
    }
  ]
}